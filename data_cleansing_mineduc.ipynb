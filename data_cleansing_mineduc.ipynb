{
 "cells": [
  {
   "cell_type": "markdown",
   "metadata": {},
   "source": [
    "# **Mineduc Data Cleansing** ✨"
   ]
  },
  {
   "cell_type": "markdown",
   "metadata": {},
   "source": [
    "Lorem ipsum dolor sit amet, consectetur adipiscing elit. Vivamus sit amet consectetur diam. Fusce auctor facilisis nulla et pharetra. Maecenas at lacus eu nisl scelerisque pretium. Nulla at tempor lectus. Mauris eu magna lectus. Nam posuere sapien quis tortor tempor, quis maximus mi pulvinar. Praesent eget tincidunt massa. Sed vulputate nisl et imperdiet gravida. Proin at enim vitae lectus maximus convallis. Proin aliquet sapien eget mauris vestibulum maximus. Nulla facilisi. "
   ]
  },
  {
   "cell_type": "markdown",
   "metadata": {},
   "source": [
    "**Authors:**\n",
    "- [Daniel Valdez](https://github.com/Danval-003)\n",
    "- [Emilio Solano](https://github.com/emiliosolanoo21)\n",
    "- [Adrian Flores](https://github.com/adrianRFlores)\n",
    "- [Andrea Ramírez](https://github.com/Andrea-gt)"
   ]
  },
  {
   "cell_type": "markdown",
   "metadata": {},
   "source": [
    "***"
   ]
  },
  {
   "cell_type": "markdown",
   "metadata": {},
   "source": [
    "## **(1) Import Libraries** ⬇️"
   ]
  },
  {
   "cell_type": "code",
   "execution_count": 1,
   "metadata": {},
   "outputs": [
    {
     "name": "stderr",
     "output_type": "stream",
     "text": [
      "c:\\Users\\agria\\AppData\\Local\\Programs\\Python\\Python312\\Lib\\site-packages\\fuzzywuzzy\\fuzz.py:11: UserWarning: Using slow pure-python SequenceMatcher. Install python-Levenshtein to remove this warning\n",
      "  warnings.warn('Using slow pure-python SequenceMatcher. Install python-Levenshtein to remove this warning')\n"
     ]
    }
   ],
   "source": [
    "# Data manipulation and visualization\n",
    "import matplotlib.pyplot as plt\n",
    "import numpy as np\n",
    "import pandas as pd\n",
    "import seaborn as sns\n",
    "from fuzzywuzzy import process, fuzz\n",
    "import difflib\n",
    "import re\n",
    "from unidecode import unidecode\n",
    "\n",
    "# Standard libraries\n",
    "import warnings\n",
    "warnings.filterwarnings('ignore')\n",
    "\n",
    "# Evit to display warnings\n",
    "warnings.simplefilter(action='ignore', category=UserWarning)\n",
    "warnings.simplefilter(action='ignore', category=FutureWarning)\n",
    "# Not dysplay UserWarning\n",
    "warnings.filterwarnings('ignore', category=UserWarning)\n",
    "\n",
    "\n",
    "\n",
    "\n",
    "# ===== ===== Reproducibility Seed ===== =====\n",
    "# Set a fixed seed for the random number generator for reproducibility\n",
    "random_state = 42\n",
    "\n",
    "# Set matplotlib inline\n",
    "%matplotlib inline\n",
    "\n",
    "# Set default figure size\n",
    "plt.rcParams['figure.figsize'] = (6, 4)\n",
    "\n",
    "# Define custom color palette\n",
    "palette = sns.color_palette(\"viridis\", 12)\n",
    "\n",
    "# Set the style of seaborn\n",
    "sns.set(style=\"whitegrid\")"
   ]
  },
  {
   "cell_type": "markdown",
   "metadata": {},
   "source": [
    "## **(2)Data Upload** 📄"
   ]
  },
  {
   "cell_type": "code",
   "execution_count": 2,
   "metadata": {},
   "outputs": [
    {
     "data": {
      "text/html": [
       "<div>\n",
       "<style scoped>\n",
       "    .dataframe tbody tr th:only-of-type {\n",
       "        vertical-align: middle;\n",
       "    }\n",
       "\n",
       "    .dataframe tbody tr th {\n",
       "        vertical-align: top;\n",
       "    }\n",
       "\n",
       "    .dataframe thead th {\n",
       "        text-align: right;\n",
       "    }\n",
       "</style>\n",
       "<table border=\"1\" class=\"dataframe\">\n",
       "  <thead>\n",
       "    <tr style=\"text-align: right;\">\n",
       "      <th></th>\n",
       "      <th>CODIGO</th>\n",
       "      <th>DISTRITO</th>\n",
       "      <th>DEPARTAMENTO</th>\n",
       "      <th>MUNICIPIO</th>\n",
       "      <th>ESTABLECIMIENTO</th>\n",
       "      <th>DIRECCION</th>\n",
       "      <th>TELEFONO</th>\n",
       "      <th>SUPERVISOR</th>\n",
       "      <th>DIRECTOR</th>\n",
       "      <th>NIVEL</th>\n",
       "      <th>SECTOR</th>\n",
       "      <th>AREA</th>\n",
       "      <th>STATUS</th>\n",
       "      <th>MODALIDAD</th>\n",
       "      <th>JORNADA</th>\n",
       "      <th>PLAN</th>\n",
       "      <th>DEPARTAMENTAL</th>\n",
       "    </tr>\n",
       "  </thead>\n",
       "  <tbody>\n",
       "    <tr>\n",
       "      <th>0</th>\n",
       "      <td>16-01-0138-46</td>\n",
       "      <td>16-031</td>\n",
       "      <td>ALTA VERAPAZ</td>\n",
       "      <td>COBAN</td>\n",
       "      <td>COLEGIO  COBAN</td>\n",
       "      <td>KM.2 SALIDA A SAN JUAN CHAMELCO ZONA 8</td>\n",
       "      <td>77945104</td>\n",
       "      <td>MERCEDES JOSEFINA TORRES GALVEZ</td>\n",
       "      <td>GUSTAVO ADOLFO SIERRA POP</td>\n",
       "      <td>DIVERSIFICADO</td>\n",
       "      <td>PRIVADO</td>\n",
       "      <td>URBANA</td>\n",
       "      <td>ABIERTA</td>\n",
       "      <td>MONOLINGUE</td>\n",
       "      <td>MATUTINA</td>\n",
       "      <td>DIARIO(REGULAR)</td>\n",
       "      <td>ALTA VERAPAZ</td>\n",
       "    </tr>\n",
       "    <tr>\n",
       "      <th>1</th>\n",
       "      <td>16-01-0139-46</td>\n",
       "      <td>16-031</td>\n",
       "      <td>ALTA VERAPAZ</td>\n",
       "      <td>COBAN</td>\n",
       "      <td>COLEGIO PARTICULAR MIXTO  VERAPAZ</td>\n",
       "      <td>KM 209.5 ENTRADA A LA CIUDAD</td>\n",
       "      <td>77367402</td>\n",
       "      <td>MERCEDES JOSEFINA TORRES GALVEZ</td>\n",
       "      <td>GILMA DOLORES GUAY PAZ DE LEAL</td>\n",
       "      <td>DIVERSIFICADO</td>\n",
       "      <td>PRIVADO</td>\n",
       "      <td>URBANA</td>\n",
       "      <td>ABIERTA</td>\n",
       "      <td>MONOLINGUE</td>\n",
       "      <td>MATUTINA</td>\n",
       "      <td>DIARIO(REGULAR)</td>\n",
       "      <td>ALTA VERAPAZ</td>\n",
       "    </tr>\n",
       "  </tbody>\n",
       "</table>\n",
       "</div>"
      ],
      "text/plain": [
       "          CODIGO DISTRITO  DEPARTAMENTO MUNICIPIO  \\\n",
       "0  16-01-0138-46   16-031  ALTA VERAPAZ     COBAN   \n",
       "1  16-01-0139-46   16-031  ALTA VERAPAZ     COBAN   \n",
       "\n",
       "                     ESTABLECIMIENTO                               DIRECCION  \\\n",
       "0                     COLEGIO  COBAN  KM.2 SALIDA A SAN JUAN CHAMELCO ZONA 8   \n",
       "1  COLEGIO PARTICULAR MIXTO  VERAPAZ            KM 209.5 ENTRADA A LA CIUDAD   \n",
       "\n",
       "   TELEFONO                       SUPERVISOR                        DIRECTOR  \\\n",
       "0  77945104  MERCEDES JOSEFINA TORRES GALVEZ       GUSTAVO ADOLFO SIERRA POP   \n",
       "1  77367402  MERCEDES JOSEFINA TORRES GALVEZ  GILMA DOLORES GUAY PAZ DE LEAL   \n",
       "\n",
       "           NIVEL   SECTOR    AREA   STATUS   MODALIDAD   JORNADA  \\\n",
       "0  DIVERSIFICADO  PRIVADO  URBANA  ABIERTA  MONOLINGUE  MATUTINA   \n",
       "1  DIVERSIFICADO  PRIVADO  URBANA  ABIERTA  MONOLINGUE  MATUTINA   \n",
       "\n",
       "              PLAN DEPARTAMENTAL  \n",
       "0  DIARIO(REGULAR)  ALTA VERAPAZ  \n",
       "1  DIARIO(REGULAR)  ALTA VERAPAZ  "
      ]
     },
     "execution_count": 2,
     "metadata": {},
     "output_type": "execute_result"
    }
   ],
   "source": [
    "df = pd.read_csv('data/establecimientos.csv')\n",
    "df.head(2)"
   ]
  },
  {
   "cell_type": "markdown",
   "metadata": {},
   "source": [
    "## **(2) Exploratory Analysis** 🔎"
   ]
  },
  {
   "cell_type": "markdown",
   "metadata": {},
   "source": [
    "**Observaciones 💡 -->**"
   ]
  },
  {
   "cell_type": "markdown",
   "metadata": {},
   "source": [
    "> - Este conjunto de datos se enfoca en la recopilación de información sobre establecimientos educativos en el país Guatemala. Los datos fueron obtenidos de la página oficial del [Ministerio de Educación](https://www.mineduc.gob.gt/BUSCAESTABLECIMIENTO_GE/). Incluye más de 9000 registros, aunque esto se detallará más adelante, que abarcan detalles de relevancia para el análisis y gestión de la educación en el país."
   ]
  },
  {
   "cell_type": "markdown",
   "metadata": {},
   "source": [
    "### **(1) Descripción General de los Datos**"
   ]
  },
  {
   "cell_type": "code",
   "execution_count": 3,
   "metadata": {},
   "outputs": [
    {
     "name": "stdout",
     "output_type": "stream",
     "text": [
      "The given dataset has 9354 registers and 17 columns.\n"
     ]
    }
   ],
   "source": [
    "# Print the number of records in the DataFrame\n",
    "print(\"The given dataset has\", df.shape[0], \"registers and\", df.shape[1], \"columns.\")"
   ]
  },
  {
   "cell_type": "markdown",
   "metadata": {},
   "source": [
    "**Observaciones 💡 -->**"
   ]
  },
  {
   "cell_type": "markdown",
   "metadata": {},
   "source": [
    "> - El conjunto de datos original contiene 9354 registros y 17 columnas, lo que sugiere que posee una dimensión relativamente grande. Cada uno de los 9354 registros representa una observación única, mientras que las 17 columnas corresponden a diferentes características o variables medidas para cada observación."
   ]
  },
  {
   "cell_type": "code",
   "execution_count": 4,
   "metadata": {},
   "outputs": [
    {
     "name": "stdout",
     "output_type": "stream",
     "text": [
      "<class 'pandas.core.frame.DataFrame'>\n",
      "RangeIndex: 9354 entries, 0 to 9353\n",
      "Data columns (total 17 columns):\n",
      " #   Column           Non-Null Count  Dtype \n",
      "---  ------           --------------  ----- \n",
      " 0   CODIGO           9331 non-null   object\n",
      " 1   DISTRITO         9123 non-null   object\n",
      " 2   DEPARTAMENTO     9331 non-null   object\n",
      " 3   MUNICIPIO        9331 non-null   object\n",
      " 4   ESTABLECIMIENTO  9331 non-null   object\n",
      " 5   DIRECCION        9280 non-null   object\n",
      " 6   TELEFONO         8792 non-null   object\n",
      " 7   SUPERVISOR       9122 non-null   object\n",
      " 8   DIRECTOR         8434 non-null   object\n",
      " 9   NIVEL            9331 non-null   object\n",
      " 10  SECTOR           9331 non-null   object\n",
      " 11  AREA             9331 non-null   object\n",
      " 12  STATUS           9331 non-null   object\n",
      " 13  MODALIDAD        9331 non-null   object\n",
      " 14  JORNADA          9331 non-null   object\n",
      " 15  PLAN             9331 non-null   object\n",
      " 16  DEPARTAMENTAL    9331 non-null   object\n",
      "dtypes: object(17)\n",
      "memory usage: 1.2+ MB\n"
     ]
    }
   ],
   "source": [
    "# Basic information about the dataset\n",
    "df.info()"
   ]
  },
  {
   "cell_type": "markdown",
   "metadata": {},
   "source": [
    "**Observaciones 💡 -->**"
   ]
  },
  {
   "cell_type": "markdown",
   "metadata": {},
   "source": [
    "> - En el análisis preliminar del conjunto de datos, se observa que varias columnas, aunque almacenadas como objetos, contienen datos que podrían beneficiarse de una conversión a tipos más apropiados aunque no es escencial. Por ejemplo, las columnas CODIGO, TELEFONO y DISTRITO, a pesar de ser objetos, ***podrían*** ser tratadas como datos categóricos o numéricos si se requiere un análisis más detallado. Sin embargo, estas son decisiones que se tomarán en el futuro y por ahora es una simple observación."
   ]
  },
  {
   "cell_type": "markdown",
   "metadata": {},
   "source": [
    "### **(2) Clasificación de las Variables**"
   ]
  },
  {
   "cell_type": "markdown",
   "metadata": {},
   "source": [
    "| Nombre           | Descripción                                                                                       | Clasificación                                                                                   |\n",
    "|------------------|---------------------------------------------------------------------------------------------------|------------------------------------------------------------------------------------------------|\n",
    "| Código           | Identifica de manera única a cada establecimiento.                                                | Variable cualitativa descriptiva                                                               |\n",
    "| Establecimiento  | Nombre del establecimiento educativo.                                                             | Variable cualitativa descriptiva                                                               |\n",
    "| Dirección        | Ubicación física del establecimiento.                                                             | Variable cualitativa descriptiva                                                               |\n",
    "| Teléfono         | Número de teléfono del establecimiento.                                                           | Variable  cualitativa descriptiva                                                                 |\n",
    "| Director         | Nombre del director del establecimiento.                                                          | Variable cualitativa descriptiva                                                               |\n",
    "| Distrito         | Clasifica el establecimiento dentro de un distrito específico.                                     | Variable cualitativa categórica                                                                |\n",
    "| Departamento     | Indica el departamento donde se encuentra cada establecimiento.                                    | Variable cualitativa categórica                                                                |\n",
    "| Municipio        | Define el municipio donde se localiza cada establecimiento.                                        | Variable cualitativa categórica                                                                |\n",
    "| Nivel            | Nivel educativo ofrecido por el establecimiento (ej. diversificado, primaria, etc.).               | Variable cualitativa categórica                                                                |\n",
    "| Sector           | Tipo de sector educativo (ej. público, privado).                                                  | Variable cualitativa categórica                                                                |\n",
    "| Área             | Área geográfica del establecimiento (ej. urbana, rural).                                          | Variable cualitativa categórica                                                                |\n",
    "| Estado           | Estado actual del establecimiento (ej. abierto, cerrado).                                          | Variable cualitativa categórica                                                                |\n",
    "| Modalidad        | Modalidad de enseñanza ofrecida (ej. monolingüe, bilingüe).                                        | Variable cualitativa categórica                                                                |\n",
    "| Jornada          | Tipo de jornada educativa (ej. matutina, vespertina).                                              | Variable cualitativa categórica                                                                |\n",
    "| Plan             | Plan educativo implementado (ej. diario, semanal).                                                | Variable cualitativa categórica                                                                |\n",
    "| Departamental    | Departamento administrativo al que pertenece el establecimiento.                                   | Variable cualitativa categórica                                                                |\n",
    "| Supervisor       | Nombre del supervisor del establecimiento.                                                        | Variable cualitativa categórica                                                                |"
   ]
  },
  {
   "cell_type": "markdown",
   "metadata": {},
   "source": [
    "**Observaciones 💡 -->**"
   ]
  },
  {
   "cell_type": "markdown",
   "metadata": {},
   "source": [
    "> - El conjunto de datos posee alrededor de 4 variables cualitativas descriptivas.\n",
    "> - El resto de variables, 12 de ellas, son variables cualitaticas categóricas."
   ]
  },
  {
   "cell_type": "markdown",
   "metadata": {},
   "source": [
    "### **(3) Exploración y Limpieza Inicial de los Datos**"
   ]
  },
  {
   "cell_type": "code",
   "execution_count": 5,
   "metadata": {},
   "outputs": [
    {
     "data": {
      "text/html": [
       "<div>\n",
       "<style scoped>\n",
       "    .dataframe tbody tr th:only-of-type {\n",
       "        vertical-align: middle;\n",
       "    }\n",
       "\n",
       "    .dataframe tbody tr th {\n",
       "        vertical-align: top;\n",
       "    }\n",
       "\n",
       "    .dataframe thead th {\n",
       "        text-align: right;\n",
       "    }\n",
       "</style>\n",
       "<table border=\"1\" class=\"dataframe\">\n",
       "  <thead>\n",
       "    <tr style=\"text-align: right;\">\n",
       "      <th></th>\n",
       "      <th>0</th>\n",
       "      <th>1</th>\n",
       "      <th>2</th>\n",
       "    </tr>\n",
       "  </thead>\n",
       "  <tbody>\n",
       "    <tr>\n",
       "      <th>CODIGO</th>\n",
       "      <td>16-01-0138-46</td>\n",
       "      <td>16-01-0139-46</td>\n",
       "      <td>16-01-0140-46</td>\n",
       "    </tr>\n",
       "    <tr>\n",
       "      <th>DISTRITO</th>\n",
       "      <td>16-031</td>\n",
       "      <td>16-031</td>\n",
       "      <td>16-031</td>\n",
       "    </tr>\n",
       "    <tr>\n",
       "      <th>DEPARTAMENTO</th>\n",
       "      <td>ALTA VERAPAZ</td>\n",
       "      <td>ALTA VERAPAZ</td>\n",
       "      <td>ALTA VERAPAZ</td>\n",
       "    </tr>\n",
       "    <tr>\n",
       "      <th>MUNICIPIO</th>\n",
       "      <td>COBAN</td>\n",
       "      <td>COBAN</td>\n",
       "      <td>COBAN</td>\n",
       "    </tr>\n",
       "    <tr>\n",
       "      <th>ESTABLECIMIENTO</th>\n",
       "      <td>COLEGIO  COBAN</td>\n",
       "      <td>COLEGIO PARTICULAR MIXTO  VERAPAZ</td>\n",
       "      <td>COLEGIO \"LA INMACULADA\"</td>\n",
       "    </tr>\n",
       "    <tr>\n",
       "      <th>DIRECCION</th>\n",
       "      <td>KM.2 SALIDA A SAN JUAN CHAMELCO ZONA 8</td>\n",
       "      <td>KM 209.5 ENTRADA A LA CIUDAD</td>\n",
       "      <td>7A. AVENIDA 11-109 ZONA 6</td>\n",
       "    </tr>\n",
       "    <tr>\n",
       "      <th>TELEFONO</th>\n",
       "      <td>77945104</td>\n",
       "      <td>77367402</td>\n",
       "      <td>78232301</td>\n",
       "    </tr>\n",
       "    <tr>\n",
       "      <th>SUPERVISOR</th>\n",
       "      <td>MERCEDES JOSEFINA TORRES GALVEZ</td>\n",
       "      <td>MERCEDES JOSEFINA TORRES GALVEZ</td>\n",
       "      <td>MERCEDES JOSEFINA TORRES GALVEZ</td>\n",
       "    </tr>\n",
       "    <tr>\n",
       "      <th>DIRECTOR</th>\n",
       "      <td>GUSTAVO ADOLFO SIERRA POP</td>\n",
       "      <td>GILMA DOLORES GUAY PAZ DE LEAL</td>\n",
       "      <td>VIRGINIA  SOLANO SERRANO</td>\n",
       "    </tr>\n",
       "    <tr>\n",
       "      <th>NIVEL</th>\n",
       "      <td>DIVERSIFICADO</td>\n",
       "      <td>DIVERSIFICADO</td>\n",
       "      <td>DIVERSIFICADO</td>\n",
       "    </tr>\n",
       "    <tr>\n",
       "      <th>SECTOR</th>\n",
       "      <td>PRIVADO</td>\n",
       "      <td>PRIVADO</td>\n",
       "      <td>PRIVADO</td>\n",
       "    </tr>\n",
       "    <tr>\n",
       "      <th>AREA</th>\n",
       "      <td>URBANA</td>\n",
       "      <td>URBANA</td>\n",
       "      <td>URBANA</td>\n",
       "    </tr>\n",
       "    <tr>\n",
       "      <th>STATUS</th>\n",
       "      <td>ABIERTA</td>\n",
       "      <td>ABIERTA</td>\n",
       "      <td>ABIERTA</td>\n",
       "    </tr>\n",
       "    <tr>\n",
       "      <th>MODALIDAD</th>\n",
       "      <td>MONOLINGUE</td>\n",
       "      <td>MONOLINGUE</td>\n",
       "      <td>MONOLINGUE</td>\n",
       "    </tr>\n",
       "    <tr>\n",
       "      <th>JORNADA</th>\n",
       "      <td>MATUTINA</td>\n",
       "      <td>MATUTINA</td>\n",
       "      <td>MATUTINA</td>\n",
       "    </tr>\n",
       "    <tr>\n",
       "      <th>PLAN</th>\n",
       "      <td>DIARIO(REGULAR)</td>\n",
       "      <td>DIARIO(REGULAR)</td>\n",
       "      <td>DIARIO(REGULAR)</td>\n",
       "    </tr>\n",
       "    <tr>\n",
       "      <th>DEPARTAMENTAL</th>\n",
       "      <td>ALTA VERAPAZ</td>\n",
       "      <td>ALTA VERAPAZ</td>\n",
       "      <td>ALTA VERAPAZ</td>\n",
       "    </tr>\n",
       "  </tbody>\n",
       "</table>\n",
       "</div>"
      ],
      "text/plain": [
       "                                                      0  \\\n",
       "CODIGO                                    16-01-0138-46   \n",
       "DISTRITO                                         16-031   \n",
       "DEPARTAMENTO                               ALTA VERAPAZ   \n",
       "MUNICIPIO                                         COBAN   \n",
       "ESTABLECIMIENTO                          COLEGIO  COBAN   \n",
       "DIRECCION        KM.2 SALIDA A SAN JUAN CHAMELCO ZONA 8   \n",
       "TELEFONO                                       77945104   \n",
       "SUPERVISOR              MERCEDES JOSEFINA TORRES GALVEZ   \n",
       "DIRECTOR                      GUSTAVO ADOLFO SIERRA POP   \n",
       "NIVEL                                     DIVERSIFICADO   \n",
       "SECTOR                                          PRIVADO   \n",
       "AREA                                             URBANA   \n",
       "STATUS                                          ABIERTA   \n",
       "MODALIDAD                                    MONOLINGUE   \n",
       "JORNADA                                        MATUTINA   \n",
       "PLAN                                    DIARIO(REGULAR)   \n",
       "DEPARTAMENTAL                              ALTA VERAPAZ   \n",
       "\n",
       "                                                 1  \\\n",
       "CODIGO                               16-01-0139-46   \n",
       "DISTRITO                                    16-031   \n",
       "DEPARTAMENTO                          ALTA VERAPAZ   \n",
       "MUNICIPIO                                    COBAN   \n",
       "ESTABLECIMIENTO  COLEGIO PARTICULAR MIXTO  VERAPAZ   \n",
       "DIRECCION             KM 209.5 ENTRADA A LA CIUDAD   \n",
       "TELEFONO                                  77367402   \n",
       "SUPERVISOR         MERCEDES JOSEFINA TORRES GALVEZ   \n",
       "DIRECTOR            GILMA DOLORES GUAY PAZ DE LEAL   \n",
       "NIVEL                                DIVERSIFICADO   \n",
       "SECTOR                                     PRIVADO   \n",
       "AREA                                        URBANA   \n",
       "STATUS                                     ABIERTA   \n",
       "MODALIDAD                               MONOLINGUE   \n",
       "JORNADA                                   MATUTINA   \n",
       "PLAN                               DIARIO(REGULAR)   \n",
       "DEPARTAMENTAL                         ALTA VERAPAZ   \n",
       "\n",
       "                                               2  \n",
       "CODIGO                             16-01-0140-46  \n",
       "DISTRITO                                  16-031  \n",
       "DEPARTAMENTO                        ALTA VERAPAZ  \n",
       "MUNICIPIO                                  COBAN  \n",
       "ESTABLECIMIENTO          COLEGIO \"LA INMACULADA\"  \n",
       "DIRECCION              7A. AVENIDA 11-109 ZONA 6  \n",
       "TELEFONO                                78232301  \n",
       "SUPERVISOR       MERCEDES JOSEFINA TORRES GALVEZ  \n",
       "DIRECTOR                VIRGINIA  SOLANO SERRANO  \n",
       "NIVEL                              DIVERSIFICADO  \n",
       "SECTOR                                   PRIVADO  \n",
       "AREA                                      URBANA  \n",
       "STATUS                                   ABIERTA  \n",
       "MODALIDAD                             MONOLINGUE  \n",
       "JORNADA                                 MATUTINA  \n",
       "PLAN                             DIARIO(REGULAR)  \n",
       "DEPARTAMENTAL                       ALTA VERAPAZ  "
      ]
     },
     "execution_count": 5,
     "metadata": {},
     "output_type": "execute_result"
    }
   ],
   "source": [
    "# Transpose the first 3 rows of the DataFrame\n",
    "# to display column names as rows for better readability.\n",
    "df.head(3).T"
   ]
  },
  {
   "cell_type": "markdown",
   "metadata": {},
   "source": [
    "**🖊 Modificación de Etiquetas de Variables -->**"
   ]
  },
  {
   "cell_type": "markdown",
   "metadata": {},
   "source": [
    "> - Para facilitar la comprensión y el manejo del conjunto de datos, se procederá a modificar los nombres de las variables. Este cambio permitirá una organización más clara y una interpretación más precisa de la información."
   ]
  },
  {
   "cell_type": "code",
   "execution_count": 6,
   "metadata": {},
   "outputs": [],
   "source": [
    "rename_col = {\n",
    "    'CODIGO': 'code',\n",
    "    'DISTRITO': 'district',\n",
    "    'DEPARTAMENTO': 'department',\n",
    "    'MUNICIPIO': 'municipality',\n",
    "    'ESTABLECIMIENTO': 'school_name',\n",
    "    'DIRECCION': 'address',\n",
    "    'TELEFONO': 'phone',\n",
    "    'SUPERVISOR': 'supervisor',\n",
    "    'DIRECTOR': 'director',\n",
    "    'NIVEL': 'education_level',\n",
    "    'SECTOR': 'sector',\n",
    "    'AREA': 'area',\n",
    "    'STATUS': 'status',\n",
    "    'MODALIDAD': 'teaching_mode',\n",
    "    'JORNADA': 'schedule',\n",
    "    'PLAN': 'plan',\n",
    "    'DEPARTAMENTAL': 'departmental'\n",
    "}"
   ]
  },
  {
   "cell_type": "code",
   "execution_count": 7,
   "metadata": {},
   "outputs": [
    {
     "data": {
      "text/html": [
       "<div>\n",
       "<style scoped>\n",
       "    .dataframe tbody tr th:only-of-type {\n",
       "        vertical-align: middle;\n",
       "    }\n",
       "\n",
       "    .dataframe tbody tr th {\n",
       "        vertical-align: top;\n",
       "    }\n",
       "\n",
       "    .dataframe thead th {\n",
       "        text-align: right;\n",
       "    }\n",
       "</style>\n",
       "<table border=\"1\" class=\"dataframe\">\n",
       "  <thead>\n",
       "    <tr style=\"text-align: right;\">\n",
       "      <th></th>\n",
       "      <th>code</th>\n",
       "      <th>district</th>\n",
       "      <th>department</th>\n",
       "      <th>municipality</th>\n",
       "      <th>school_name</th>\n",
       "      <th>address</th>\n",
       "      <th>phone</th>\n",
       "      <th>supervisor</th>\n",
       "      <th>director</th>\n",
       "      <th>education_level</th>\n",
       "      <th>sector</th>\n",
       "      <th>area</th>\n",
       "      <th>status</th>\n",
       "      <th>teaching_mode</th>\n",
       "      <th>schedule</th>\n",
       "      <th>plan</th>\n",
       "      <th>departmental</th>\n",
       "    </tr>\n",
       "  </thead>\n",
       "  <tbody>\n",
       "    <tr>\n",
       "      <th>0</th>\n",
       "      <td>16-01-0138-46</td>\n",
       "      <td>16-031</td>\n",
       "      <td>ALTA VERAPAZ</td>\n",
       "      <td>COBAN</td>\n",
       "      <td>COLEGIO  COBAN</td>\n",
       "      <td>KM.2 SALIDA A SAN JUAN CHAMELCO ZONA 8</td>\n",
       "      <td>77945104</td>\n",
       "      <td>MERCEDES JOSEFINA TORRES GALVEZ</td>\n",
       "      <td>GUSTAVO ADOLFO SIERRA POP</td>\n",
       "      <td>DIVERSIFICADO</td>\n",
       "      <td>PRIVADO</td>\n",
       "      <td>URBANA</td>\n",
       "      <td>ABIERTA</td>\n",
       "      <td>MONOLINGUE</td>\n",
       "      <td>MATUTINA</td>\n",
       "      <td>DIARIO(REGULAR)</td>\n",
       "      <td>ALTA VERAPAZ</td>\n",
       "    </tr>\n",
       "    <tr>\n",
       "      <th>1</th>\n",
       "      <td>16-01-0139-46</td>\n",
       "      <td>16-031</td>\n",
       "      <td>ALTA VERAPAZ</td>\n",
       "      <td>COBAN</td>\n",
       "      <td>COLEGIO PARTICULAR MIXTO  VERAPAZ</td>\n",
       "      <td>KM 209.5 ENTRADA A LA CIUDAD</td>\n",
       "      <td>77367402</td>\n",
       "      <td>MERCEDES JOSEFINA TORRES GALVEZ</td>\n",
       "      <td>GILMA DOLORES GUAY PAZ DE LEAL</td>\n",
       "      <td>DIVERSIFICADO</td>\n",
       "      <td>PRIVADO</td>\n",
       "      <td>URBANA</td>\n",
       "      <td>ABIERTA</td>\n",
       "      <td>MONOLINGUE</td>\n",
       "      <td>MATUTINA</td>\n",
       "      <td>DIARIO(REGULAR)</td>\n",
       "      <td>ALTA VERAPAZ</td>\n",
       "    </tr>\n",
       "  </tbody>\n",
       "</table>\n",
       "</div>"
      ],
      "text/plain": [
       "            code district    department municipality  \\\n",
       "0  16-01-0138-46   16-031  ALTA VERAPAZ        COBAN   \n",
       "1  16-01-0139-46   16-031  ALTA VERAPAZ        COBAN   \n",
       "\n",
       "                         school_name                                 address  \\\n",
       "0                     COLEGIO  COBAN  KM.2 SALIDA A SAN JUAN CHAMELCO ZONA 8   \n",
       "1  COLEGIO PARTICULAR MIXTO  VERAPAZ            KM 209.5 ENTRADA A LA CIUDAD   \n",
       "\n",
       "      phone                       supervisor                        director  \\\n",
       "0  77945104  MERCEDES JOSEFINA TORRES GALVEZ       GUSTAVO ADOLFO SIERRA POP   \n",
       "1  77367402  MERCEDES JOSEFINA TORRES GALVEZ  GILMA DOLORES GUAY PAZ DE LEAL   \n",
       "\n",
       "  education_level   sector    area   status teaching_mode  schedule  \\\n",
       "0   DIVERSIFICADO  PRIVADO  URBANA  ABIERTA    MONOLINGUE  MATUTINA   \n",
       "1   DIVERSIFICADO  PRIVADO  URBANA  ABIERTA    MONOLINGUE  MATUTINA   \n",
       "\n",
       "              plan  departmental  \n",
       "0  DIARIO(REGULAR)  ALTA VERAPAZ  \n",
       "1  DIARIO(REGULAR)  ALTA VERAPAZ  "
      ]
     },
     "execution_count": 7,
     "metadata": {},
     "output_type": "execute_result"
    }
   ],
   "source": [
    "# Use a pandas function to rename the current function\n",
    "df = df.rename(columns = rename_col)\n",
    "df.head(2)"
   ]
  },
  {
   "cell_type": "markdown",
   "metadata": {},
   "source": [
    "#### **(1) Frecuencias y Conteo de los Datos**"
   ]
  },
  {
   "cell_type": "code",
   "execution_count": 8,
   "metadata": {},
   "outputs": [],
   "source": [
    "# Create a list with descriptive columns\n",
    "descriptive = [\"code\", \"school_name\", \"address\", \"director\", \"number\"]\n",
    "\n",
    "# Create a list with categorical columns\n",
    "categorical = [\"district\", \"department\", \"municipality\", \"education_level\", \"sector\", \"area\", \"status\", \"teaching_mode\", \"schedule\", \"plan\", \"departmental\", \"supervisor\"]"
   ]
  },
  {
   "cell_type": "code",
   "execution_count": 9,
   "metadata": {},
   "outputs": [
    {
     "data": {
      "text/html": [
       "<style type=\"text/css\">\n",
       "#T_8fa98 th {\n",
       "  font-weight: bold;\n",
       "}\n",
       "</style>\n",
       "<table id=\"T_8fa98\">\n",
       "  <thead>\n",
       "    <tr>\n",
       "      <th class=\"blank level0\" >&nbsp;</th>\n",
       "      <th id=\"T_8fa98_level0_col0\" class=\"col_heading level0 col0\" >district</th>\n",
       "      <th id=\"T_8fa98_level0_col1\" class=\"col_heading level0 col1\" >department</th>\n",
       "      <th id=\"T_8fa98_level0_col2\" class=\"col_heading level0 col2\" >municipality</th>\n",
       "      <th id=\"T_8fa98_level0_col3\" class=\"col_heading level0 col3\" >education_level</th>\n",
       "      <th id=\"T_8fa98_level0_col4\" class=\"col_heading level0 col4\" >sector</th>\n",
       "      <th id=\"T_8fa98_level0_col5\" class=\"col_heading level0 col5\" >area</th>\n",
       "    </tr>\n",
       "  </thead>\n",
       "  <tbody>\n",
       "    <tr>\n",
       "      <th id=\"T_8fa98_level0_row0\" class=\"row_heading level0 row0\" >count</th>\n",
       "      <td id=\"T_8fa98_row0_col0\" class=\"data row0 col0\" >9123</td>\n",
       "      <td id=\"T_8fa98_row0_col1\" class=\"data row0 col1\" >9331</td>\n",
       "      <td id=\"T_8fa98_row0_col2\" class=\"data row0 col2\" >9331</td>\n",
       "      <td id=\"T_8fa98_row0_col3\" class=\"data row0 col3\" >9331</td>\n",
       "      <td id=\"T_8fa98_row0_col4\" class=\"data row0 col4\" >9331</td>\n",
       "      <td id=\"T_8fa98_row0_col5\" class=\"data row0 col5\" >9331</td>\n",
       "    </tr>\n",
       "    <tr>\n",
       "      <th id=\"T_8fa98_level0_row1\" class=\"row_heading level0 row1\" >unique</th>\n",
       "      <td id=\"T_8fa98_row1_col0\" class=\"data row1 col0\" >690</td>\n",
       "      <td id=\"T_8fa98_row1_col1\" class=\"data row1 col1\" >23</td>\n",
       "      <td id=\"T_8fa98_row1_col2\" class=\"data row1 col2\" >349</td>\n",
       "      <td id=\"T_8fa98_row1_col3\" class=\"data row1 col3\" >1</td>\n",
       "      <td id=\"T_8fa98_row1_col4\" class=\"data row1 col4\" >4</td>\n",
       "      <td id=\"T_8fa98_row1_col5\" class=\"data row1 col5\" >3</td>\n",
       "    </tr>\n",
       "    <tr>\n",
       "      <th id=\"T_8fa98_level0_row2\" class=\"row_heading level0 row2\" >top</th>\n",
       "      <td id=\"T_8fa98_row2_col0\" class=\"data row2 col0\" >01-403</td>\n",
       "      <td id=\"T_8fa98_row2_col1\" class=\"data row2 col1\" >CIUDAD CAPITAL</td>\n",
       "      <td id=\"T_8fa98_row2_col2\" class=\"data row2 col2\" >ZONA 1</td>\n",
       "      <td id=\"T_8fa98_row2_col3\" class=\"data row2 col3\" >DIVERSIFICADO</td>\n",
       "      <td id=\"T_8fa98_row2_col4\" class=\"data row2 col4\" >PRIVADO</td>\n",
       "      <td id=\"T_8fa98_row2_col5\" class=\"data row2 col5\" >URBANA</td>\n",
       "    </tr>\n",
       "    <tr>\n",
       "      <th id=\"T_8fa98_level0_row3\" class=\"row_heading level0 row3\" >freq</th>\n",
       "      <td id=\"T_8fa98_row3_col0\" class=\"data row3 col0\" >268</td>\n",
       "      <td id=\"T_8fa98_row3_col1\" class=\"data row3 col1\" >1564</td>\n",
       "      <td id=\"T_8fa98_row3_col2\" class=\"data row3 col2\" >633</td>\n",
       "      <td id=\"T_8fa98_row3_col3\" class=\"data row3 col3\" >9331</td>\n",
       "      <td id=\"T_8fa98_row3_col4\" class=\"data row3 col4\" >7956</td>\n",
       "      <td id=\"T_8fa98_row3_col5\" class=\"data row3 col5\" >7606</td>\n",
       "    </tr>\n",
       "  </tbody>\n",
       "</table>\n"
      ],
      "text/plain": [
       "<pandas.io.formats.style.Styler at 0x283575823f0>"
      ]
     },
     "metadata": {},
     "output_type": "display_data"
    },
    {
     "data": {
      "text/html": [
       "<style type=\"text/css\">\n",
       "#T_16258 th {\n",
       "  font-weight: bold;\n",
       "}\n",
       "</style>\n",
       "<table id=\"T_16258\">\n",
       "  <thead>\n",
       "    <tr>\n",
       "      <th class=\"blank level0\" >&nbsp;</th>\n",
       "      <th id=\"T_16258_level0_col0\" class=\"col_heading level0 col0\" >status</th>\n",
       "      <th id=\"T_16258_level0_col1\" class=\"col_heading level0 col1\" >teaching_mode</th>\n",
       "      <th id=\"T_16258_level0_col2\" class=\"col_heading level0 col2\" >schedule</th>\n",
       "      <th id=\"T_16258_level0_col3\" class=\"col_heading level0 col3\" >plan</th>\n",
       "      <th id=\"T_16258_level0_col4\" class=\"col_heading level0 col4\" >departmental</th>\n",
       "      <th id=\"T_16258_level0_col5\" class=\"col_heading level0 col5\" >supervisor</th>\n",
       "    </tr>\n",
       "  </thead>\n",
       "  <tbody>\n",
       "    <tr>\n",
       "      <th id=\"T_16258_level0_row0\" class=\"row_heading level0 row0\" >count</th>\n",
       "      <td id=\"T_16258_row0_col0\" class=\"data row0 col0\" >9331</td>\n",
       "      <td id=\"T_16258_row0_col1\" class=\"data row0 col1\" >9331</td>\n",
       "      <td id=\"T_16258_row0_col2\" class=\"data row0 col2\" >9331</td>\n",
       "      <td id=\"T_16258_row0_col3\" class=\"data row0 col3\" >9331</td>\n",
       "      <td id=\"T_16258_row0_col4\" class=\"data row0 col4\" >9331</td>\n",
       "      <td id=\"T_16258_row0_col5\" class=\"data row0 col5\" >9122</td>\n",
       "    </tr>\n",
       "    <tr>\n",
       "      <th id=\"T_16258_level0_row1\" class=\"row_heading level0 row1\" >unique</th>\n",
       "      <td id=\"T_16258_row1_col0\" class=\"data row1 col0\" >4</td>\n",
       "      <td id=\"T_16258_row1_col1\" class=\"data row1 col1\" >2</td>\n",
       "      <td id=\"T_16258_row1_col2\" class=\"data row1 col2\" >6</td>\n",
       "      <td id=\"T_16258_row1_col3\" class=\"data row1 col3\" >13</td>\n",
       "      <td id=\"T_16258_row1_col4\" class=\"data row1 col4\" >26</td>\n",
       "      <td id=\"T_16258_row1_col5\" class=\"data row1 col5\" >659</td>\n",
       "    </tr>\n",
       "    <tr>\n",
       "      <th id=\"T_16258_level0_row2\" class=\"row_heading level0 row2\" >top</th>\n",
       "      <td id=\"T_16258_row2_col0\" class=\"data row2 col0\" >ABIERTA</td>\n",
       "      <td id=\"T_16258_row2_col1\" class=\"data row2 col1\" >MONOLINGUE</td>\n",
       "      <td id=\"T_16258_row2_col2\" class=\"data row2 col2\" >DOBLE</td>\n",
       "      <td id=\"T_16258_row2_col3\" class=\"data row2 col3\" >DIARIO(REGULAR)</td>\n",
       "      <td id=\"T_16258_row2_col4\" class=\"data row2 col4\" >GUATEMALA NORTE</td>\n",
       "      <td id=\"T_16258_row2_col5\" class=\"data row2 col5\" >CARLOS HUMBERTO GONZALEZ DE LEON</td>\n",
       "    </tr>\n",
       "    <tr>\n",
       "      <th id=\"T_16258_level0_row3\" class=\"row_heading level0 row3\" >freq</th>\n",
       "      <td id=\"T_16258_row3_col0\" class=\"data row3 col0\" >6545</td>\n",
       "      <td id=\"T_16258_row3_col1\" class=\"data row3 col1\" >9039</td>\n",
       "      <td id=\"T_16258_row3_col2\" class=\"data row3 col2\" >3037</td>\n",
       "      <td id=\"T_16258_row3_col3\" class=\"data row3 col3\" >5721</td>\n",
       "      <td id=\"T_16258_row3_col4\" class=\"data row3 col4\" >1050</td>\n",
       "      <td id=\"T_16258_row3_col5\" class=\"data row3 col5\" >333</td>\n",
       "    </tr>\n",
       "  </tbody>\n",
       "</table>\n"
      ],
      "text/plain": [
       "<pandas.io.formats.style.Styler at 0x28357720b90>"
      ]
     },
     "metadata": {},
     "output_type": "display_data"
    }
   ],
   "source": [
    "group_size = 6  # Len of groups to show\n",
    "num_groups = len(categorical) // group_size + (len(categorical) % group_size > 0) # Number of groups\n",
    "\n",
    "# Iterate over the groups and print the description\n",
    "for i in range(num_groups):\n",
    "    start = i * group_size\n",
    "    end = (i + 1) * group_size\n",
    "    group_cols = categorical[start:end]    \n",
    "    \n",
    "    # Use .describe() to get the description of the columns\n",
    "    description = df[group_cols].describe()\n",
    "    styler = description.style.set_table_styles([\n",
    "        {'selector': 'th', 'props': [('font-weight', 'bold')]}\n",
    "    ])\n",
    "    # Display the description\n",
    "    display(styler)"
   ]
  },
  {
   "cell_type": "markdown",
   "metadata": {},
   "source": [
    "**🏅 Top 10 Valores Por Columna -->**"
   ]
  },
  {
   "cell_type": "code",
   "execution_count": 10,
   "metadata": {},
   "outputs": [
    {
     "name": "stdout",
     "output_type": "stream",
     "text": [
      "Top 10 most frequent values for column 'code':\n",
      "1     16-01-0138-46                  1         \n",
      "2     17-01-4075-46                  1         \n",
      "3     17-03-0095-46                  1         \n",
      "4     17-03-0098-46                  1         \n",
      "5     17-03-0099-46                  1         \n",
      "6     17-03-0101-46                  1         \n",
      "7     17-03-0102-46                  1         \n",
      "8     17-03-0104-46                  1         \n",
      "9     17-03-0111-46                  1         \n",
      "10    17-03-0113-46                  1         \n",
      "\n",
      "===============================================\n",
      "Top 10 most frequent values for column 'district':\n",
      "1     01-403                         268       \n",
      "2     11-017                         176       \n",
      "3     05-033                         167       \n",
      "4     01-411                         167       \n",
      "5     18-008                         130       \n",
      "6     05-007                         104       \n",
      "7     01-641                         103       \n",
      "8     18-039                         102       \n",
      "9     10-019                         95        \n",
      "10    03-002                         95        \n",
      "\n",
      "===============================================\n",
      "Top 10 most frequent values for column 'department':\n",
      "1     CIUDAD CAPITAL                 1564      \n",
      "2     GUATEMALA                      1477      \n",
      "3     ESCUINTLA                      628       \n",
      "4     SAN MARCOS                     574       \n",
      "5     HUEHUETENANGO                  516       \n",
      "6     QUETZALTENANGO                 491       \n",
      "7     SUCHITEPEQUEZ                  385       \n",
      "8     ALTA VERAPAZ                   374       \n",
      "9     IZABAL                         368       \n",
      "10    PETEN                          366       \n",
      "\n",
      "===============================================\n",
      "Top 10 most frequent values for column 'municipality':\n",
      "1     ZONA 1                         633       \n",
      "2     MIXCO                          428       \n",
      "3     VILLA NUEVA                    370       \n",
      "4     QUETZALTENANGO                 248       \n",
      "5     RETALHULEU                     185       \n",
      "6     ZONA 7                         175       \n",
      "7     MAZATENANGO                    173       \n",
      "8     ESCUINTLA                      172       \n",
      "9     CHIMALTENANGO                  165       \n",
      "10    HUEHUETENANGO                  160       \n",
      "\n",
      "===============================================\n",
      "Top 10 most frequent values for column 'school_name':\n",
      "1     INSTITUTO NACIONAL DE EDUCACION DIVERSIFICADA 332       \n",
      "2     INSTITUTO NACIONAL DE EDUCACIÓN DIVERSIFICADA 93        \n",
      "3     CENTRO DE EDUCACIÓN EXTRAESCOLAR -CEEX- 33        \n",
      "4     INSTITUTO DE EDUCACION DIVERSIFICADA POR COOPERATIVA DE ENSEÑANZA 27        \n",
      "5     INSTITUTO DIVERSIFICADO POR COOPERATIVA 23        \n",
      "6     INSTITUTO GUATEMALTECO DE EDUCACION RADIOFONICA (IGER) 20        \n",
      "7     INSTITUTO DE EDUCACIÓN DIVERSIFICADA POR COOPERATIVA DE ENSEÑANZA 19        \n",
      "8     INSTITUTO DE COMPUTACION INFORMATICA 18        \n",
      "9     ESCUELA NORMAL DE EDUCACION FISICA 17        \n",
      "10    INSTITUTO DIVERSIFICADO POR COOPERATIVA DE ENSEÑANZA 15        \n",
      "\n",
      "===============================================\n",
      "Top 10 most frequent values for column 'address':\n",
      "1     CABECERA MUNICIPAL             270       \n",
      "2     BARRIO EL CENTRO               60        \n",
      "3     BARRIO EL CALVARIO             19        \n",
      "4     BARRIO EL PORVENIR             19        \n",
      "5     BARRIO LAS FLORES              15        \n",
      "6     CALLE PRINCIPAL                14        \n",
      "7     ALDEA CAMOJALLITO              14        \n",
      "8     ALDEA PLAYITAS                 13        \n",
      "9     BARRIO SAN SEBASTIAN           12        \n",
      "10    BARRIO EL MITCHAL              12        \n",
      "\n",
      "===============================================\n",
      "Top 10 most frequent values for column 'phone':\n",
      "1     22067425                       21        \n",
      "2     79480009                       14        \n",
      "3     77602663                       13        \n",
      "4     22093200                       12        \n",
      "5     77746400                       11        \n",
      "6     45353648                       11        \n",
      "7     59304894                       11        \n",
      "8     24637777                       10        \n",
      "9     78899679                       10        \n",
      "10    22322912                       10        \n",
      "\n",
      "===============================================\n",
      "Top 10 most frequent values for column 'supervisor':\n",
      "1     CARLOS HUMBERTO GONZALEZ DE LEON 333       \n",
      "2     MIGUEL ANGEL ARMAS ROCHA       228       \n",
      "3     REMY ARTURO SINAY GUDIEL       167       \n",
      "4     JUAN ENRIQUE MARTINEZ SOLANO   167       \n",
      "5     ELENA ELIZABETH SUCHITE GARNICA DE QUINTANILLA 130       \n",
      "6     JUAN FRANCISCO GODOY DAVILA    104       \n",
      "7     MILTON ALONSO ALVAREZ FUENTES  103       \n",
      "8     IDALIA DEL ROSARIO LOPEZ SANDOVAL DE PAIZ 102       \n",
      "9     ELSA YADIRA MARTINEZ PEREZ     102       \n",
      "10    ZOILA ESTHELA JONFE OROZCO     95        \n",
      "\n",
      "===============================================\n",
      "Top 10 most frequent values for column 'director':\n",
      "1     ---                            83        \n",
      "2     ----                           28        \n",
      "3     --                             27        \n",
      "4     SIN DATO                       14        \n",
      "5     -----                          14        \n",
      "6     MARÍA DOLORES PÉREZ TUCHÁN     12        \n",
      "7     MARIA DEL ROSARIO LOPEZ ESCOBAR DE PAZ 11        \n",
      "8     MARCO ANTONIO CASTAÑEDA FLORES 11        \n",
      "9     .                              10        \n",
      "10    ZOILA ERNESTINA MORALES GODOY  9         \n",
      "\n",
      "===============================================\n",
      "Top 10 most frequent values for column 'education_level':\n",
      "1     DIVERSIFICADO                  9331      \n",
      "\n",
      "===============================================\n",
      "Top 10 most frequent values for column 'sector':\n",
      "1     PRIVADO                        7956      \n",
      "2     OFICIAL                        990       \n",
      "3     COOPERATIVA                    245       \n",
      "4     MUNICIPAL                      140       \n",
      "\n",
      "===============================================\n",
      "Top 10 most frequent values for column 'area':\n",
      "1     URBANA                         7606      \n",
      "2     RURAL                          1723      \n",
      "3     SIN ESPECIFICAR                2         \n",
      "\n",
      "===============================================\n",
      "Top 10 most frequent values for column 'status':\n",
      "1     ABIERTA                        6545      \n",
      "2     CERRADA TEMPORALMENTE          2663      \n",
      "3     TEMPORAL TITULOS               120       \n",
      "4     TEMPORAL NOMBRAMIENTO          3         \n",
      "\n",
      "===============================================\n",
      "Top 10 most frequent values for column 'teaching_mode':\n",
      "1     MONOLINGUE                     9039      \n",
      "2     BILINGUE                       292       \n",
      "\n",
      "===============================================\n",
      "Top 10 most frequent values for column 'schedule':\n",
      "1     DOBLE                          3037      \n",
      "2     VESPERTINA                     2567      \n",
      "3     MATUTINA                       2382      \n",
      "4     SIN JORNADA                    964       \n",
      "5     NOCTURNA                       289       \n",
      "6     INTERMEDIA                     92        \n",
      "\n",
      "===============================================\n",
      "Top 10 most frequent values for column 'plan':\n",
      "1     DIARIO(REGULAR)                5721      \n",
      "2     FIN DE SEMANA                  2328      \n",
      "3     SEMIPRESENCIAL (FIN DE SEMANA) 481       \n",
      "4     SEMIPRESENCIAL (UN DÍA A LA SEMANA) 398       \n",
      "5     A DISTANCIA                    143       \n",
      "6     SEMIPRESENCIAL                 86        \n",
      "7     SEMIPRESENCIAL (DOS DÍAS A LA SEMANA) 57        \n",
      "8     VIRTUAL A DISTANCIA            50        \n",
      "9     SABATINO                       41        \n",
      "10    DOMINICAL                      19        \n",
      "\n",
      "===============================================\n",
      "Top 10 most frequent values for column 'departmental':\n",
      "1     GUATEMALA NORTE                1050      \n",
      "2     GUATEMALA SUR                  833       \n",
      "3     GUATEMALA OCCIDENTE            785       \n",
      "4     ESCUINTLA                      628       \n",
      "5     SAN MARCOS                     574       \n",
      "6     HUEHUETENANGO                  516       \n",
      "7     QUETZALTENANGO                 491       \n",
      "8     SUCHITEPÉQUEZ                  385       \n",
      "9     ALTA VERAPAZ                   374       \n",
      "10    GUATEMALA ORIENTE              373       \n",
      "\n",
      "===============================================\n"
     ]
    }
   ],
   "source": [
    "# See what are the 10 most frequent values for each of the dataframe columns\n",
    "for column in df.columns:\n",
    "    frequency_values = df[column].value_counts().head(10)\n",
    "    print(\"Top 10 most frequent values for column '{}':\".format(column))\n",
    "    for index, (value, frequency) in enumerate(frequency_values.items(), start=1):\n",
    "        print(\"{:<5} {:<30} {:<10}\".format(index, value, frequency))\n",
    "    print(\"\\n===============================================\")"
   ]
  },
  {
   "cell_type": "markdown",
   "metadata": {},
   "source": [
    "**Observaciones 💡 -->**"
   ]
  },
  {
   "cell_type": "markdown",
   "metadata": {},
   "source": [
    "1. Es importante señalar que la columna `code` contiene únicamente valores únicos para cada entrada, lo que sugiere que no aporta información significativa al conjunto de datos y podría considerarse prescindible para los análisis posteriores.\n",
    "\n",
    "2. Por otro lado, la columna `district` presenta múltiples entradas repetidas, siendo 01-403 la más frecuente en el conjunto de datos. Esta repetición podría ser útil para identificar patrones en la distribución de la data, aunque se requiere un análisis más profundo para determinar su relevancia.\n",
    "\n",
    "3. En cuanto a la columna `municipality`, se ha observado que contiene entradas inconsistentes. En esta columna se registran, en su mayoría, los nombres de los municipios de los departamentos, pero también aparecen nombres de zonas específicas de la ciudad capital, lo que indica una falta de un formato de entrada adecuado. En relación con esto último, es importante tener en cuenta que los municipios de Guatemala no incluyen sus zonas, por lo que la presencia de estas entradas no solo es inconsistente, sino también incorrecta en el contexto de los datos. Todo esto ees algo a tomar en consideración durante el proceso de limpieza.\n",
    "\n",
    "4. Un aspecto interesante relacionado con la integridad de los datos se observa en la columna `director`. En esta columna, se encuentran 83 valores representados como \"---\", 28 como \"----\", 27 como \"--\" y 14 como \"SIN DATO\". Esta variedad en la representación de los valores nulos es significativa y debe ser considerada cuidadosamente en el análisis de datos faltantes. Es crucial realizar las modificaciones necesarias para clasificar correctamente estos valores nulos, ya que su manejo inadecuado podría afectar las conclusiones extraídas del conjunto de datos. Vemos este mismo problema en la columna `area`, donde los valores nulos tienen OTRO tipo de codificación, siendo esta \"SIN ESPECIFICAR\".\n",
    "\n",
    "5. Por otro lado, la columna `education_level` presenta una notable falta de diversidad en sus entradas, ya que se limita únicamente al valor \"DIVERSIFICADO\". Esta homogeneidad plantea la pregunta sobre la utilidad de esta columna en la data, ya que no proporciona información escencial que permita realizar comparaciones o análisis significativos.\n",
    "\n",
    "6. La columna `plan` presenta una distribución notablemente desigual en sus valores, con \"DIARIO(REGULAR)\" como el más frecuente y otros planes mostrando significativamente menos entradas.  Se considera que se debería realizar una limpieza de datos en esta columna, lo que incluye verificar la consistencia en la nomenclatura de los planes, unificar categorías similares, manejar posibles datos faltantes y considerar la eliminación o agrupación de planes con baja frecuencia que no aporten valor significativo.\n",
    "\n",
    "7. La columna `departamental` incluye nombres de departamentos del país, pero también presenta regiones específicas que son inconsistentes en su nomenclatura. Dada esta situación, se sugiere agrupar ciertas entradas para proporcionar mayor coherencia y utilidad a la columna. En particular, sería recomendable unificar las diversas regiones de la ciudad capital bajo la etiqueta \"Guatemala\" y asegurarse de que no existan otras entradas que estén separadas por regiones, lo que podría llevar a confusiones en el análisis."
   ]
  },
  {
   "cell_type": "markdown",
   "metadata": {},
   "source": [
    "#### **(2) Análisis de Valores Duplicados**"
   ]
  },
  {
   "cell_type": "code",
   "execution_count": 11,
   "metadata": {},
   "outputs": [],
   "source": [
    "# Check duplicate rows in dataset\n",
    "df = df.drop_duplicates()"
   ]
  },
  {
   "cell_type": "code",
   "execution_count": 12,
   "metadata": {},
   "outputs": [
    {
     "name": "stdout",
     "output_type": "stream",
     "text": [
      "The given dataset has 9332 registers and 17 columns.\n"
     ]
    }
   ],
   "source": [
    "# Print the number of records in the DataFrame\n",
    "print(\"The given dataset has\", df.shape[0], \"registers and\", df.shape[1], \"columns.\")"
   ]
  },
  {
   "cell_type": "markdown",
   "metadata": {},
   "source": [
    "**Observaciones 💡 -->**"
   ]
  },
  {
   "cell_type": "markdown",
   "metadata": {},
   "source": [
    "> - Se identificaron 22 entradas duplicadas en el conjunto de datos, lo que representa aproximadamente el 0.5% del total.\n",
    "> - Este problema ya fue abordado durante la etapa de limpieza preliminar."
   ]
  },
  {
   "cell_type": "markdown",
   "metadata": {},
   "source": [
    "## **(4) Data Cleansing 🫧**"
   ]
  },
  {
   "cell_type": "markdown",
   "metadata": {},
   "source": [
    "### **(1) Errores Estructurales**"
   ]
  },
  {
   "cell_type": "markdown",
   "metadata": {},
   "source": [
    "<div class=\"alert alert-block alert-info\">\n",
    "<b>Nota:</b> Los errores estructurales surgen al recolectar o trasladar datos, evidenciándose en nombres inusuales, faltas de ortografía o uso incorrecto de mayúsculas, llevando así a clasificaciones erróneas.\n",
    "</div>"
   ]
  },
  {
   "cell_type": "markdown",
   "metadata": {},
   "source": [
    "#### **(1) Columna \"department\"**"
   ]
  },
  {
   "cell_type": "markdown",
   "metadata": {},
   "source": [
    "En primer lugar, es fundamental abordar el tema de la capitalización de los nombres de los departamentos en Guatemala. En el dataset original, se ha encontrado que los nombres de los departamentos están mayormente en minúsculas, lo que representa un evidente error. La correcta capitalización de los nombres no solo es importante desde el punto de vista estético, sino que también garantiza la integridad y precisión de la información, evitando confusiones que podrían surgir en el manejo y la interpretación de los datos."
   ]
  },
  {
   "cell_type": "code",
   "execution_count": 13,
   "metadata": {},
   "outputs": [],
   "source": [
    "# Capitalizing the values of a single column\n",
    "df['department'] = df['department'].str.title()"
   ]
  },
  {
   "cell_type": "markdown",
   "metadata": {},
   "source": [
    "A continuación, se llevará a cabo un análisis más detallado de los valores contenidos en la columna de departamentos. En primer lugar, se convertirá esta columna en una lista para facilitar el análisis. A partir de esta lista, se extraerán los valores únicos, para tratar de identificar posibles errores relacionados con la acentuación, así como otros tipos de inconsistencias que puedan existir."
   ]
  },
  {
   "cell_type": "code",
   "execution_count": 14,
   "metadata": {},
   "outputs": [
    {
     "name": "stdout",
     "output_type": "stream",
     "text": [
      "Unique Departments:\n",
      "Alta Verapaz, nan, Baja Verapaz, Chimaltenango, Chiquimula, Ciudad Capital, El Progreso, Escuintla, Guatemala, Huehuetenango, Izabal, Jalapa, Jutiapa, Peten, Quetzaltenango, Quiche, Retalhuleu, Sacatepequez, San Marcos, Santa Rosa, Solola, Suchitepequez, Totonicapan, Zacapa\n",
      "\n",
      "Total number of unique departments: 24\n"
     ]
    }
   ],
   "source": [
    "# Converting the column to a list\n",
    "column_to_list = df['department'].unique().tolist()\n",
    "\n",
    "# Convert all elements to strings to avoid TypeError\n",
    "column_to_list_str = [str(department) for department in column_to_list]\n",
    "\n",
    "# Pretty print the list and its length\n",
    "print(\"Unique Departments:\")\n",
    "print(\", \".join(column_to_list_str))\n",
    "print(f\"\\nTotal number of unique departments: {len(column_to_list_str)}\")"
   ]
  },
  {
   "cell_type": "markdown",
   "metadata": {},
   "source": [
    "**Observaciones 💡 -->**"
   ]
  },
  {
   "cell_type": "markdown",
   "metadata": {},
   "source": [
    "Vemos que existen un punto importante a resolver.\n",
    "1. **Inconsistencias en la Clasificación de Departamentos**\n",
    "    Oficialmente, solo existen 22 entidades subnacionales de primer orden denominadas como departamentos en Guatemala. Sin embargo, al revisar la lista, se identifican 23 nombres de departamentos, exceptuando el nulo, lo que indica una clasificación errónea. Al examinar detenidamente, se encuentra que hay dos entradas: \"Ciudad Capital\" y \"Guatemala\", las cuales hacen referencia al mismo departamento. El nombre correcto es \"Departamento de Guatemala\"; por lo tanto, se procederá a unir estas dos entradas y renombrarlas adecuadamente.\n",
    "\n",
    "Es importante destacar que se abordará la correcta identificación de valores nulos en esta columna en esta misma sección."
   ]
  },
  {
   "cell_type": "code",
   "execution_count": 15,
   "metadata": {},
   "outputs": [],
   "source": [
    "# Dictionary mapping incorrect department names to correct ones\n",
    "department_corrections = {\n",
    "    \"Ciudad Capital\": \"Guatemala\", # Corrected\n",
    "    \"nan\": np.nan  # Replace nan with None or keep it as needed\n",
    "}"
   ]
  },
  {
   "cell_type": "code",
   "execution_count": 16,
   "metadata": {},
   "outputs": [],
   "source": [
    "# Replace department names in the DataFrame\n",
    "df['department'] = df['department'].replace(department_corrections)"
   ]
  },
  {
   "cell_type": "code",
   "execution_count": 17,
   "metadata": {},
   "outputs": [
    {
     "name": "stdout",
     "output_type": "stream",
     "text": [
      "department\n",
      "Guatemala         3041\n",
      "Escuintla          628\n",
      "San Marcos         574\n",
      "Huehuetenango      516\n",
      "Quetzaltenango     491\n",
      "Suchitepequez      385\n",
      "Alta Verapaz       374\n",
      "Izabal             368\n",
      "Peten              366\n",
      "Chimaltenango      359\n",
      "Sacatepequez       319\n",
      "Retalhuleu         316\n",
      "Jutiapa            310\n",
      "Quiche             244\n",
      "Chiquimula         170\n",
      "Santa Rosa         158\n",
      "Jalapa             151\n",
      "Solola             138\n",
      "El Progreso        125\n",
      "Baja Verapaz       114\n",
      "Zacapa              94\n",
      "Totonicapan         90\n",
      "Name: count, dtype: int64\n"
     ]
    }
   ],
   "source": [
    "# Count occurrences of each unique value\n",
    "value_counts = df['department'].value_counts()\n",
    "# Display the occurrences\n",
    "print(value_counts)"
   ]
  },
  {
   "cell_type": "markdown",
   "metadata": {},
   "source": [
    "#### **(2) Columna \"municipality\"**"
   ]
  },
  {
   "cell_type": "markdown",
   "metadata": {},
   "source": [
    "Al igual que en la justificación presentada anteriormente, se abordarán los problemas de capitalización en la columna de municipios para garantizar la consistencia y la claridad en el análisis.\n",
    "\n",
    "Además, a partir de las tablas de frecuencia, hemos identificado que hay varias entradas en esta columna que comienzan con la palabra \"zona\". Dado el contexto de los datos, se ha determinado que estas entradas son incorrectas y no reflejan adecuadamente la estructura geográfica de Guatemala. Por lo tanto, se procederá a clasificar todas estas entradas como \"Guatemala\" para asegurar que el dataset mantenga una representación precisa y uniforme de los municipios del país."
   ]
  },
  {
   "cell_type": "code",
   "execution_count": 18,
   "metadata": {},
   "outputs": [],
   "source": [
    "# Capitalizing the values of a single column\n",
    "df['municipality'] = df['municipality'].str.title()\n",
    "# Replace entries that start with \"Zona\"\n",
    "df['municipality'] = df['municipality'].replace(to_replace=r'^Zona.*', value='Guatemala', regex=True)\n",
    "# Replace 'nan' strings with np.nan\n",
    "df['municipality'] = df['municipality'].replace('nan', np.nan)"
   ]
  },
  {
   "cell_type": "code",
   "execution_count": 19,
   "metadata": {},
   "outputs": [
    {
     "name": "stdout",
     "output_type": "stream",
     "text": [
      "municipality\n",
      "Guatemala             1567\n",
      "Mixco                  428\n",
      "Villa Nueva            370\n",
      "Quetzaltenango         248\n",
      "Retalhuleu             185\n",
      "                      ... \n",
      "San Miguel Siguila       1\n",
      "Patzite                  1\n",
      "Chiche                   1\n",
      "Zunil                    1\n",
      "San Jorge                1\n",
      "Name: count, Length: 328, dtype: int64\n"
     ]
    }
   ],
   "source": [
    "# Count occurrences of each unique value\n",
    "value_counts = df['municipality'].value_counts()\n",
    "# Display the occurrences\n",
    "print(value_counts)"
   ]
  },
  {
   "cell_type": "markdown",
   "metadata": {},
   "source": [
    "**Observaciones 💡 -->**"
   ]
  },
  {
   "cell_type": "markdown",
   "metadata": {},
   "source": [
    "> - Tras realizar una exhaustiva investigación, se ha confirmado que, salvo por algunas faltas de tildes, no existen discrepancias en los nombres de los municipios en el dataset. Esta afirmación se respalda con la información disponible en este [sitio web](https://es.wikipedia.org/wiki/Anexo:Municipios_de_Guatemala), donde se listan los departamentos junto con sus respectivos municipios."
   ]
  },
  {
   "cell_type": "markdown",
   "metadata": {},
   "source": [
    "#### **(3) Columna \"address\"**"
   ]
  },
  {
   "cell_type": "code",
   "execution_count": 20,
   "metadata": {},
   "outputs": [
    {
     "name": "stdout",
     "output_type": "stream",
     "text": [
      "address\n",
      "CABECERA MUNICIPAL                                                       270\n",
      "BARRIO EL CENTRO                                                          60\n",
      "BARRIO EL CALVARIO                                                        19\n",
      "BARRIO EL PORVENIR                                                        19\n",
      "BARRIO LAS FLORES                                                         15\n",
      "                                                                        ... \n",
      "SECTOR 1 MANZANA \"B2 LOTE 31 Y 32, COLONIA PLANES DEL MILAGRO, ZONA 0      1\n",
      "28 CALLE  28-00 COLONIA  EL  MOLINO                                        1\n",
      "SECTOR 1, MANZANA  \"B\"  LOTES 31 Y 32, COLONIA PLANES DEL MILAGRO          1\n",
      "CANTON RIO SALJÁ KM. 13 1/2 CHINAUTLA VIEJA                                1\n",
      "BARRIO EL  CAMPO                                                           1\n",
      "Name: count, Length: 6084, dtype: int64\n"
     ]
    }
   ],
   "source": [
    "# Count occurrences of each unique value\n",
    "value_counts = df['address'].value_counts()\n",
    "# Display the occurrences\n",
    "print(value_counts)"
   ]
  },
  {
   "cell_type": "markdown",
   "metadata": {},
   "source": [
    "##### **(1) Limpieza General de la Columna**"
   ]
  },
  {
   "cell_type": "code",
   "execution_count": 21,
   "metadata": {},
   "outputs": [],
   "source": [
    "# Convert all entries to strings\n",
    "df['address'] = df['address'].astype(str)\n",
    "# Convert to lowercase\n",
    "df['address'] = df['address'].str.lower()\n",
    "# Remove leading/trailing whitespaces\n",
    "df['address'] = df['address'].str.strip()\n",
    "# Remove special characters and punctuation (keeping letters, numbers, spaces, and hyphens)\n",
    "df['address'] = df['address'].str.replace(r'[^\\w\\s-]', '', regex=True)\n",
    "# Remove extra spaces\n",
    "df['address'] = df['address'].str.replace(r'\\s+', ' ', regex=True)\n",
    "# Remove accents\n",
    "df['address'] = df['address'].apply(unidecode)\n",
    "# Assign nan to empty strings and known invalid values\n",
    "df['address'].replace(['', '--', '-', '---'], 'nan', inplace=True)"
   ]
  },
  {
   "cell_type": "markdown",
   "metadata": {},
   "source": [
    "##### **(2) Manejo de Abreviaciones**"
   ]
  },
  {
   "cell_type": "code",
   "execution_count": 22,
   "metadata": {},
   "outputs": [],
   "source": [
    "# Create a DataFrame from the abbreviation mapping\n",
    "# ===== ===== IMPORTANT ===== =====\n",
    "# This has been saved as a CSV file for easy access and use by others who may need it.\n",
    "abbreviation_mapping = {\n",
    "    'abbreviation': [\n",
    "        'ave', 'ave.', 'km', 'av', 'cl.', 'z.'\n",
    "    ],\n",
    "    'full_form': [\n",
    "        'avenida', 'avenida', 'kilometro', 'avenida', 'calle', 'zona'\n",
    "    ]\n",
    "}\n",
    "\n",
    "abbreviation_df = pd.DataFrame(abbreviation_mapping)\n",
    "# Save the DataFrame as a CSV file\n",
    "abbreviation_df.to_csv('abbreviation_mapping.csv', index=False)"
   ]
  },
  {
   "cell_type": "code",
   "execution_count": 23,
   "metadata": {},
   "outputs": [],
   "source": [
    "# Load the abbreviation mapping from CSV\n",
    "abbreviation_df = pd.read_csv('abbreviation_mapping.csv')\n",
    "\n",
    "# Create a dictionary from the DataFrame for easier access\n",
    "abbreviation_mapping = dict(zip(abbreviation_df['abbreviation'], abbreviation_df['full_form']))\n",
    "\n",
    "# Function to normalize abbreviations in addresses using the CSV mapping\n",
    "def normalize_abbreviations(address):\n",
    "    for abbr, full in abbreviation_mapping.items():\n",
    "        address = re.sub(r'\\b' + re.escape(abbr) + r'\\b', full, address, flags=re.IGNORECASE)\n",
    "    return address"
   ]
  },
  {
   "cell_type": "code",
   "execution_count": 24,
   "metadata": {},
   "outputs": [],
   "source": [
    "# Apply normalization to the 'address' column\n",
    "df['address'] = df['address'].apply(normalize_abbreviations)"
   ]
  },
  {
   "cell_type": "markdown",
   "metadata": {},
   "source": [
    "##### **(3) Manejo de Errores Tipográficos**"
   ]
  },
  {
   "cell_type": "code",
   "execution_count": 25,
   "metadata": {},
   "outputs": [],
   "source": [
    "# List of valid words (this can be extended)\n",
    "valid_words = ['calle', 'zona', 'avenida']\n",
    "\n",
    "# Function to check and correct spelling\n",
    "def correct_spelling(address):\n",
    "    words = address.split()\n",
    "    corrected_words = []\n",
    "    for word in words:\n",
    "        # Find close matches from the valid words\n",
    "        close_matches = difflib.get_close_matches(word, valid_words, n=1, cutoff=0.8)\n",
    "        # If a close match is found, use it; otherwise, keep the original word\n",
    "        corrected_word = close_matches[0] if close_matches else word\n",
    "        corrected_words.append(corrected_word)\n",
    "    return ' '.join(corrected_words)"
   ]
  },
  {
   "cell_type": "code",
   "execution_count": 27,
   "metadata": {},
   "outputs": [],
   "source": [
    "# Apply spelling correction to the 'address' column\n",
    "df['address'] = df['address'].apply(correct_spelling)"
   ]
  },
  {
   "cell_type": "markdown",
   "metadata": {},
   "source": [
    "##### **(4) Levenshtein Distance Filtering Para Valores Duplicados**"
   ]
  },
  {
   "cell_type": "markdown",
   "metadata": {},
   "source": [
    "<div class=\"alert alert-block alert-info\">\n",
    "<b>Nota:</b> La distancia de Levenshtein (LD) es una medida de la similitud entre dos cadenas de texto, la cadena fuente (s) y la cadena objetivo (t). La distancia es el número de eliminaciones, inserciones o sustituciones necesarias para transformar s en t. Cuanto mayor sea la distancia de Levenshtein, más diferentes serán las cadenas.\n",
    "</div>"
   ]
  },
  {
   "cell_type": "code",
   "execution_count": 27,
   "metadata": {},
   "outputs": [],
   "source": [
    "from concurrent.futures import ThreadPoolExecutor\n",
    "\n",
    "# Function to replace duplicates using fuzzy matching in a specific chunk\n",
    "def process_chunk(address, df, column, threshold=80):\n",
    "    replacements = []\n",
    "    similar_addresses = process.extract(address, df[column], scorer=fuzz.token_sort_ratio)\n",
    "    for match in similar_addresses:\n",
    "        if match[1] >= threshold:\n",
    "            replacements.append((match[0], address))\n",
    "    return replacements\n",
    "\n",
    "# Function to replace duplicates using fuzzy matching with threading\n",
    "def replace_duplicates_fuzzy_threaded(df, column, threshold=80, max_workers=7):\n",
    "    unique_addresses = df[column].unique()\n",
    "    replacements = []\n",
    "\n",
    "    with ThreadPoolExecutor(max_workers=max_workers) as executor:\n",
    "        futures = []\n",
    "        for address in unique_addresses:\n",
    "            futures.append(executor.submit(process_chunk, address, df, column, threshold))\n",
    "        \n",
    "        # Collect all replacement operations from each thread\n",
    "        for future in futures:\n",
    "            replacements.extend(future.result())\n",
    "\n",
    "    # Apply all collected replacements sequentially to avoid conflicts\n",
    "    for old_value, new_value in replacements:\n",
    "        df[column] = df[column].replace(old_value, new_value)\n",
    "    \n",
    "    return df\n",
    "    "
   ]
  },
  {
   "cell_type": "code",
   "execution_count": 28,
   "metadata": {},
   "outputs": [],
   "source": [
    "# ===== ===== IMPORTANT ===== =====\n",
    "# Only run this cell if absolutely necessary. \n",
    "# This operation can take approximately 20 minutes to complete.\n",
    "# Apply the replacement of duplicates\n",
    "df = replace_duplicates_fuzzy_threaded(df, 'address', threshold=90)"
   ]
  },
  {
   "cell_type": "code",
   "execution_count": null,
   "metadata": {},
   "outputs": [],
   "source": [
    "# ===== ===== IMPORTANT ===== =====\n",
    "# For testing only.\n",
    "result_df_copy = df.copy()"
   ]
  },
  {
   "cell_type": "markdown",
   "metadata": {},
   "source": [
    "##### **(5) Estandarización de Direcciones**"
   ]
  },
  {
   "cell_type": "code",
   "execution_count": null,
   "metadata": {},
   "outputs": [],
   "source": [
    "# Function to standardize addresses\n",
    "def standardize_address(address):\n",
    "    # Ensure the address is a string\n",
    "    if isinstance(address, str):\n",
    "        match = re.search(r'(\\d+[a-zA-Z]?)\\s+(calle|avenida)\\s+(\\d+[a-zA-Z]?\\s*-\\s*\\d+[a-zA-Z]?)?\\s*(zona\\s*\\d+)?', address, re.IGNORECASE)\n",
    "        if match:\n",
    "            street_number = match.group(1).rstrip('ab')  # Remove suffixes like 'a', 'b'\n",
    "            street_type = match.group(2).capitalize()  # Capitalize street type\n",
    "            number = match.group(3) if match.group(3) else ''  # Get the street number part\n",
    "            zone = match.group(4).strip() if match.group(4) else ''  # Get the zone\n",
    "            if not zone: return np.nan\n",
    "            # Capitalize \"Zona\" and create a standardized address\n",
    "            standardized = f\"{street_number} {street_type} {number.strip()} {zone.capitalize()}\".strip()\n",
    "            return standardized if standardized else np.nan\n",
    "    # Return np.nan if no match is found\n",
    "    return np.nan\n",
    "# Apply the standardization function to the address column\n",
    "df['address'] = df['address'].apply(standardize_address)"
   ]
  },
  {
   "cell_type": "code",
   "execution_count": null,
   "metadata": {},
   "outputs": [],
   "source": [
    "# Remove unwanted spaces\n",
    "df['address'] = df['address'].str.replace(r'\\s+', ' ', regex=True)  # Replace multiple spaces with a single space\n",
    "df['address'] = df['address'].str.strip()  # Remove leading/trailing spaces"
   ]
  },
  {
   "cell_type": "code",
   "execution_count": null,
   "metadata": {},
   "outputs": [
    {
     "name": "stdout",
     "output_type": "stream",
     "text": [
      "address\n",
      "2 Avenida 1-04 Zona 1      24\n",
      "7 Avenida 8-15 Zona 1      21\n",
      "13 Avenida 7-39 Zona 1     20\n",
      "11 Calle 0-97 Zona 3       19\n",
      "16 Calle 7-34 Zona 4       19\n",
      "                           ..\n",
      "6 Avenida 10-68 Zona 12     1\n",
      "5 Calle 5-10 Zona 3         1\n",
      "8 Calle 9-30 Zona 1         1\n",
      "7 Avenida 6-07 Zona 2       1\n",
      "7 Calle Zona 1              1\n",
      "Name: count, Length: 563, dtype: int64\n"
     ]
    }
   ],
   "source": [
    "# Count occurrences of each unique value\n",
    "value_counts = df['address'].value_counts()\n",
    "# Display the occurrences\n",
    "print(value_counts)"
   ]
  },
  {
   "cell_type": "code",
   "execution_count": null,
   "metadata": {},
   "outputs": [],
   "source": [
    "# Replace string 'nan' with actual np.nan in the 'address' column only\n",
    "df['address'].replace('nan', np.nan, inplace=True)"
   ]
  },
  {
   "cell_type": "code",
   "execution_count": null,
   "metadata": {},
   "outputs": [
    {
     "data": {
      "text/html": [
       "<div>\n",
       "<style scoped>\n",
       "    .dataframe tbody tr th:only-of-type {\n",
       "        vertical-align: middle;\n",
       "    }\n",
       "\n",
       "    .dataframe tbody tr th {\n",
       "        vertical-align: top;\n",
       "    }\n",
       "\n",
       "    .dataframe thead th {\n",
       "        text-align: right;\n",
       "    }\n",
       "</style>\n",
       "<table border=\"1\" class=\"dataframe\">\n",
       "  <thead>\n",
       "    <tr style=\"text-align: right;\">\n",
       "      <th></th>\n",
       "      <th>code</th>\n",
       "      <th>district</th>\n",
       "      <th>department</th>\n",
       "      <th>municipality</th>\n",
       "      <th>school_name</th>\n",
       "      <th>address</th>\n",
       "      <th>phone</th>\n",
       "      <th>supervisor</th>\n",
       "      <th>director</th>\n",
       "      <th>education_level</th>\n",
       "      <th>sector</th>\n",
       "      <th>area</th>\n",
       "      <th>status</th>\n",
       "      <th>teaching_mode</th>\n",
       "      <th>schedule</th>\n",
       "      <th>plan</th>\n",
       "      <th>departmental</th>\n",
       "    </tr>\n",
       "  </thead>\n",
       "  <tbody>\n",
       "    <tr>\n",
       "      <th>0</th>\n",
       "      <td>16-01-0138-46</td>\n",
       "      <td>16-031</td>\n",
       "      <td>Alta Verapaz</td>\n",
       "      <td>Coban</td>\n",
       "      <td>COLEGIO  COBAN</td>\n",
       "      <td>NaN</td>\n",
       "      <td>77945104</td>\n",
       "      <td>MERCEDES JOSEFINA TORRES GALVEZ</td>\n",
       "      <td>GUSTAVO ADOLFO SIERRA POP</td>\n",
       "      <td>DIVERSIFICADO</td>\n",
       "      <td>PRIVADO</td>\n",
       "      <td>URBANA</td>\n",
       "      <td>ABIERTA</td>\n",
       "      <td>MONOLINGUE</td>\n",
       "      <td>MATUTINA</td>\n",
       "      <td>DIARIO(REGULAR)</td>\n",
       "      <td>ALTA VERAPAZ</td>\n",
       "    </tr>\n",
       "    <tr>\n",
       "      <th>1</th>\n",
       "      <td>16-01-0139-46</td>\n",
       "      <td>16-031</td>\n",
       "      <td>Alta Verapaz</td>\n",
       "      <td>Coban</td>\n",
       "      <td>COLEGIO PARTICULAR MIXTO  VERAPAZ</td>\n",
       "      <td>NaN</td>\n",
       "      <td>77367402</td>\n",
       "      <td>MERCEDES JOSEFINA TORRES GALVEZ</td>\n",
       "      <td>GILMA DOLORES GUAY PAZ DE LEAL</td>\n",
       "      <td>DIVERSIFICADO</td>\n",
       "      <td>PRIVADO</td>\n",
       "      <td>URBANA</td>\n",
       "      <td>ABIERTA</td>\n",
       "      <td>MONOLINGUE</td>\n",
       "      <td>MATUTINA</td>\n",
       "      <td>DIARIO(REGULAR)</td>\n",
       "      <td>ALTA VERAPAZ</td>\n",
       "    </tr>\n",
       "    <tr>\n",
       "      <th>2</th>\n",
       "      <td>16-01-0140-46</td>\n",
       "      <td>16-031</td>\n",
       "      <td>Alta Verapaz</td>\n",
       "      <td>Coban</td>\n",
       "      <td>COLEGIO \"LA INMACULADA\"</td>\n",
       "      <td>6 Avenida 6-11 Zona 1</td>\n",
       "      <td>78232301</td>\n",
       "      <td>MERCEDES JOSEFINA TORRES GALVEZ</td>\n",
       "      <td>VIRGINIA  SOLANO SERRANO</td>\n",
       "      <td>DIVERSIFICADO</td>\n",
       "      <td>PRIVADO</td>\n",
       "      <td>URBANA</td>\n",
       "      <td>ABIERTA</td>\n",
       "      <td>MONOLINGUE</td>\n",
       "      <td>MATUTINA</td>\n",
       "      <td>DIARIO(REGULAR)</td>\n",
       "      <td>ALTA VERAPAZ</td>\n",
       "    </tr>\n",
       "  </tbody>\n",
       "</table>\n",
       "</div>"
      ],
      "text/plain": [
       "            code district    department municipality  \\\n",
       "0  16-01-0138-46   16-031  Alta Verapaz        Coban   \n",
       "1  16-01-0139-46   16-031  Alta Verapaz        Coban   \n",
       "2  16-01-0140-46   16-031  Alta Verapaz        Coban   \n",
       "\n",
       "                         school_name                address     phone  \\\n",
       "0                     COLEGIO  COBAN                    NaN  77945104   \n",
       "1  COLEGIO PARTICULAR MIXTO  VERAPAZ                    NaN  77367402   \n",
       "2            COLEGIO \"LA INMACULADA\"  6 Avenida 6-11 Zona 1  78232301   \n",
       "\n",
       "                        supervisor                        director  \\\n",
       "0  MERCEDES JOSEFINA TORRES GALVEZ       GUSTAVO ADOLFO SIERRA POP   \n",
       "1  MERCEDES JOSEFINA TORRES GALVEZ  GILMA DOLORES GUAY PAZ DE LEAL   \n",
       "2  MERCEDES JOSEFINA TORRES GALVEZ        VIRGINIA  SOLANO SERRANO   \n",
       "\n",
       "  education_level   sector    area   status teaching_mode  schedule  \\\n",
       "0   DIVERSIFICADO  PRIVADO  URBANA  ABIERTA    MONOLINGUE  MATUTINA   \n",
       "1   DIVERSIFICADO  PRIVADO  URBANA  ABIERTA    MONOLINGUE  MATUTINA   \n",
       "2   DIVERSIFICADO  PRIVADO  URBANA  ABIERTA    MONOLINGUE  MATUTINA   \n",
       "\n",
       "              plan  departmental  \n",
       "0  DIARIO(REGULAR)  ALTA VERAPAZ  \n",
       "1  DIARIO(REGULAR)  ALTA VERAPAZ  \n",
       "2  DIARIO(REGULAR)  ALTA VERAPAZ  "
      ]
     },
     "execution_count": 34,
     "metadata": {},
     "output_type": "execute_result"
    }
   ],
   "source": [
    "# Display modified DataFrame.\n",
    "df.head(3)"
   ]
  },
  {
   "cell_type": "markdown",
   "metadata": {},
   "source": [
    "#### **(4) Columna \"education_level\"**"
   ]
  },
  {
   "cell_type": "markdown",
   "metadata": {},
   "source": [
    "Como se observó en los resultados de la tabla de frecuencia, la columna \"education_level\" contiene un único valor en toda su extensión. Debido a esta falta de variabilidad, se ha tomado la decisión de eliminarla del conjunto de datos, ya que no aporta información útil para ningún análisis. Además, mantener una columna sin variaciones puede generar confusión y aumentar de manera inútil la dimensión del set de datos. En general, eliminar esta columna permite que los modelos de análisis y machine learning se enfoquen en las variables que realmente contribuyen a los hallazgos."
   ]
  },
  {
   "cell_type": "code",
   "execution_count": null,
   "metadata": {},
   "outputs": [],
   "source": [
    "df.drop(columns=['education_level'], inplace=True)"
   ]
  },
  {
   "cell_type": "markdown",
   "metadata": {},
   "source": [
    "#### **(5) Columna \"supervisor\"**"
   ]
  },
  {
   "cell_type": "code",
   "execution_count": null,
   "metadata": {},
   "outputs": [
    {
     "name": "stdout",
     "output_type": "stream",
     "text": [
      "supervisor\n",
      "CARLOS HUMBERTO GONZALEZ DE LEON                  333\n",
      "MIGUEL ANGEL ARMAS ROCHA                          228\n",
      "JUAN ENRIQUE MARTINEZ SOLANO                      167\n",
      "REMY ARTURO SINAY GUDIEL                          167\n",
      "ELENA ELIZABETH SUCHITE GARNICA DE QUINTANILLA    130\n",
      "                                                 ... \n",
      "ELMER DUBAN ALVARADO JASSE                          1\n",
      "FLORI AMALIA PEREZ POCOP DE BOLVITO                 1\n",
      "ISCENIA MARLENY LOPEZ MORALES DE HERNANDEZ          1\n",
      "CARLOS RIGOBERTO POS TUY                            1\n",
      "ALBA LUZ MENDEZ                                     1\n",
      "Name: count, Length: 659, dtype: int64\n"
     ]
    }
   ],
   "source": [
    "# Count occurrences of each unique value\n",
    "value_counts = df['supervisor'].value_counts()\n",
    "# Display the occurrences\n",
    "print(value_counts)"
   ]
  },
  {
   "cell_type": "markdown",
   "metadata": {},
   "source": [
    "##### **(1) Limpieza General de la Columna**"
   ]
  },
  {
   "cell_type": "code",
   "execution_count": null,
   "metadata": {},
   "outputs": [],
   "source": [
    "# Convert all entries to strings\n",
    "df['supervisor'] = df['supervisor'].astype(str)\n",
    "# Capitalizing the values of a single column\n",
    "df['supervisor'] = df['supervisor'].str.title()\n",
    "# Remove leading/trailing whitespaces\n",
    "df['supervisor'] = df['supervisor'].str.strip()\n",
    "# Remove special characters and punctuation (keeping letters, numbers, spaces)\n",
    "df['supervisor'] = df['supervisor'].str.replace(r'[^\\w\\s]', '', regex=True)\n",
    "# Remove extra spaces\n",
    "df['supervisor'] = df['supervisor'].str.replace(r'\\s+', ' ', regex=True)\n",
    "# Remove accents\n",
    "df['supervisor'] = df['supervisor'].apply(unidecode)\n",
    "# Assign nan to empty strings and known invalid values\n",
    "df['supervisor'].replace([np.nan, ' ', 'Nan', 'Se Elimino El Distrito'], 'nan', inplace=True)"
   ]
  },
  {
   "cell_type": "markdown",
   "metadata": {},
   "source": [
    "##### **(2) Levenshtein Distance Filtering Para Valores Duplicados**"
   ]
  },
  {
   "cell_type": "code",
   "execution_count": null,
   "metadata": {},
   "outputs": [],
   "source": [
    "# ===== ===== IMPORTANT ===== =====\n",
    "# Only run this cell if absolutely necessary. \n",
    "# This operation can take approximately 20 minutes to complete.\n",
    "# Apply the replacement of duplicates\n",
    "df = replace_duplicates_fuzzy_threaded(df, 'supervisor', threshold=90)"
   ]
  },
  {
   "cell_type": "code",
   "execution_count": null,
   "metadata": {},
   "outputs": [
    {
     "name": "stdout",
     "output_type": "stream",
     "text": [
      "supervisor\n",
      "Carlos Humberto Gonzalez De Leon              333\n",
      "Miguel Angel Armas Rocha                      228\n",
      "nan                                           213\n",
      "Remy Arturo Sinay Gudiel                      167\n",
      "Juan Enrique Martinez Solano                  167\n",
      "                                             ... \n",
      "Iscenia Marleny Lopez Morales De Hernandez      1\n",
      "Elmer Duban Alvarado Jasse                      1\n",
      "Aurelio Cho Maquin                              1\n",
      "Flori Amalia Perez Pocop De Bolvito             1\n",
      "Alba Luz Mendez                                 1\n",
      "Name: count, Length: 651, dtype: int64\n"
     ]
    }
   ],
   "source": [
    "# Count occurrences of each unique value\n",
    "value_counts = df['supervisor'].value_counts()\n",
    "# Display the occurrences\n",
    "print(value_counts)"
   ]
  },
  {
   "cell_type": "code",
   "execution_count": null,
   "metadata": {},
   "outputs": [],
   "source": [
    "# Replace string 'nan' with actual np.nan in the 'supervisor' column only\n",
    "df['supervisor'].replace('nan', np.nan, inplace=True)"
   ]
  },
  {
   "cell_type": "code",
   "execution_count": null,
   "metadata": {},
   "outputs": [
    {
     "data": {
      "text/html": [
       "<div>\n",
       "<style scoped>\n",
       "    .dataframe tbody tr th:only-of-type {\n",
       "        vertical-align: middle;\n",
       "    }\n",
       "\n",
       "    .dataframe tbody tr th {\n",
       "        vertical-align: top;\n",
       "    }\n",
       "\n",
       "    .dataframe thead th {\n",
       "        text-align: right;\n",
       "    }\n",
       "</style>\n",
       "<table border=\"1\" class=\"dataframe\">\n",
       "  <thead>\n",
       "    <tr style=\"text-align: right;\">\n",
       "      <th></th>\n",
       "      <th>code</th>\n",
       "      <th>district</th>\n",
       "      <th>department</th>\n",
       "      <th>municipality</th>\n",
       "      <th>school_name</th>\n",
       "      <th>address</th>\n",
       "      <th>phone</th>\n",
       "      <th>supervisor</th>\n",
       "      <th>director</th>\n",
       "      <th>sector</th>\n",
       "      <th>area</th>\n",
       "      <th>status</th>\n",
       "      <th>teaching_mode</th>\n",
       "      <th>schedule</th>\n",
       "      <th>plan</th>\n",
       "      <th>departmental</th>\n",
       "    </tr>\n",
       "  </thead>\n",
       "  <tbody>\n",
       "    <tr>\n",
       "      <th>0</th>\n",
       "      <td>16-01-0138-46</td>\n",
       "      <td>16-031</td>\n",
       "      <td>Alta Verapaz</td>\n",
       "      <td>Coban</td>\n",
       "      <td>COLEGIO  COBAN</td>\n",
       "      <td>NaN</td>\n",
       "      <td>77945104</td>\n",
       "      <td>Mercedes Josefina Torres Galvez</td>\n",
       "      <td>GUSTAVO ADOLFO SIERRA POP</td>\n",
       "      <td>PRIVADO</td>\n",
       "      <td>URBANA</td>\n",
       "      <td>ABIERTA</td>\n",
       "      <td>MONOLINGUE</td>\n",
       "      <td>MATUTINA</td>\n",
       "      <td>DIARIO(REGULAR)</td>\n",
       "      <td>ALTA VERAPAZ</td>\n",
       "    </tr>\n",
       "    <tr>\n",
       "      <th>1</th>\n",
       "      <td>16-01-0139-46</td>\n",
       "      <td>16-031</td>\n",
       "      <td>Alta Verapaz</td>\n",
       "      <td>Coban</td>\n",
       "      <td>COLEGIO PARTICULAR MIXTO  VERAPAZ</td>\n",
       "      <td>NaN</td>\n",
       "      <td>77367402</td>\n",
       "      <td>Mercedes Josefina Torres Galvez</td>\n",
       "      <td>GILMA DOLORES GUAY PAZ DE LEAL</td>\n",
       "      <td>PRIVADO</td>\n",
       "      <td>URBANA</td>\n",
       "      <td>ABIERTA</td>\n",
       "      <td>MONOLINGUE</td>\n",
       "      <td>MATUTINA</td>\n",
       "      <td>DIARIO(REGULAR)</td>\n",
       "      <td>ALTA VERAPAZ</td>\n",
       "    </tr>\n",
       "    <tr>\n",
       "      <th>2</th>\n",
       "      <td>16-01-0140-46</td>\n",
       "      <td>16-031</td>\n",
       "      <td>Alta Verapaz</td>\n",
       "      <td>Coban</td>\n",
       "      <td>COLEGIO \"LA INMACULADA\"</td>\n",
       "      <td>6 Avenida 6-11 Zona 1</td>\n",
       "      <td>78232301</td>\n",
       "      <td>Mercedes Josefina Torres Galvez</td>\n",
       "      <td>VIRGINIA  SOLANO SERRANO</td>\n",
       "      <td>PRIVADO</td>\n",
       "      <td>URBANA</td>\n",
       "      <td>ABIERTA</td>\n",
       "      <td>MONOLINGUE</td>\n",
       "      <td>MATUTINA</td>\n",
       "      <td>DIARIO(REGULAR)</td>\n",
       "      <td>ALTA VERAPAZ</td>\n",
       "    </tr>\n",
       "    <tr>\n",
       "      <th>3</th>\n",
       "      <td>16-01-0141-46</td>\n",
       "      <td>16-005</td>\n",
       "      <td>Alta Verapaz</td>\n",
       "      <td>Coban</td>\n",
       "      <td>ESCUELA NACIONAL DE CIENCIAS COMERCIALES</td>\n",
       "      <td>11 Calle 11-28 Zona 1</td>\n",
       "      <td>79514215</td>\n",
       "      <td>Rudy Adolfo Tot Och</td>\n",
       "      <td>HÉCTOR ROLANDO CHUN POOU</td>\n",
       "      <td>OFICIAL</td>\n",
       "      <td>URBANA</td>\n",
       "      <td>ABIERTA</td>\n",
       "      <td>MONOLINGUE</td>\n",
       "      <td>MATUTINA</td>\n",
       "      <td>DIARIO(REGULAR)</td>\n",
       "      <td>ALTA VERAPAZ</td>\n",
       "    </tr>\n",
       "    <tr>\n",
       "      <th>4</th>\n",
       "      <td>16-01-0142-46</td>\n",
       "      <td>16-005</td>\n",
       "      <td>Alta Verapaz</td>\n",
       "      <td>Coban</td>\n",
       "      <td>INSTITUTO NORMAL MIXTO DEL NORTE 'EMILIO ROSAL...</td>\n",
       "      <td>6 Avenida 1-22 Zona 1</td>\n",
       "      <td>79521468</td>\n",
       "      <td>Rudy Adolfo Tot Och</td>\n",
       "      <td>VICTOR HUGO DOMÍNGUEZ REYES</td>\n",
       "      <td>OFICIAL</td>\n",
       "      <td>URBANA</td>\n",
       "      <td>ABIERTA</td>\n",
       "      <td>BILINGUE</td>\n",
       "      <td>VESPERTINA</td>\n",
       "      <td>DIARIO(REGULAR)</td>\n",
       "      <td>ALTA VERAPAZ</td>\n",
       "    </tr>\n",
       "  </tbody>\n",
       "</table>\n",
       "</div>"
      ],
      "text/plain": [
       "            code district    department municipality  \\\n",
       "0  16-01-0138-46   16-031  Alta Verapaz        Coban   \n",
       "1  16-01-0139-46   16-031  Alta Verapaz        Coban   \n",
       "2  16-01-0140-46   16-031  Alta Verapaz        Coban   \n",
       "3  16-01-0141-46   16-005  Alta Verapaz        Coban   \n",
       "4  16-01-0142-46   16-005  Alta Verapaz        Coban   \n",
       "\n",
       "                                         school_name                address  \\\n",
       "0                                     COLEGIO  COBAN                    NaN   \n",
       "1                  COLEGIO PARTICULAR MIXTO  VERAPAZ                    NaN   \n",
       "2                            COLEGIO \"LA INMACULADA\"  6 Avenida 6-11 Zona 1   \n",
       "3           ESCUELA NACIONAL DE CIENCIAS COMERCIALES  11 Calle 11-28 Zona 1   \n",
       "4  INSTITUTO NORMAL MIXTO DEL NORTE 'EMILIO ROSAL...  6 Avenida 1-22 Zona 1   \n",
       "\n",
       "      phone                       supervisor                        director  \\\n",
       "0  77945104  Mercedes Josefina Torres Galvez       GUSTAVO ADOLFO SIERRA POP   \n",
       "1  77367402  Mercedes Josefina Torres Galvez  GILMA DOLORES GUAY PAZ DE LEAL   \n",
       "2  78232301  Mercedes Josefina Torres Galvez        VIRGINIA  SOLANO SERRANO   \n",
       "3  79514215              Rudy Adolfo Tot Och        HÉCTOR ROLANDO CHUN POOU   \n",
       "4  79521468              Rudy Adolfo Tot Och     VICTOR HUGO DOMÍNGUEZ REYES   \n",
       "\n",
       "    sector    area   status teaching_mode    schedule             plan  \\\n",
       "0  PRIVADO  URBANA  ABIERTA    MONOLINGUE    MATUTINA  DIARIO(REGULAR)   \n",
       "1  PRIVADO  URBANA  ABIERTA    MONOLINGUE    MATUTINA  DIARIO(REGULAR)   \n",
       "2  PRIVADO  URBANA  ABIERTA    MONOLINGUE    MATUTINA  DIARIO(REGULAR)   \n",
       "3  OFICIAL  URBANA  ABIERTA    MONOLINGUE    MATUTINA  DIARIO(REGULAR)   \n",
       "4  OFICIAL  URBANA  ABIERTA      BILINGUE  VESPERTINA  DIARIO(REGULAR)   \n",
       "\n",
       "   departmental  \n",
       "0  ALTA VERAPAZ  \n",
       "1  ALTA VERAPAZ  \n",
       "2  ALTA VERAPAZ  \n",
       "3  ALTA VERAPAZ  \n",
       "4  ALTA VERAPAZ  "
      ]
     },
     "execution_count": 41,
     "metadata": {},
     "output_type": "execute_result"
    }
   ],
   "source": [
    "df.head(5)"
   ]
  },
  {
   "cell_type": "markdown",
   "metadata": {},
   "source": [
    "#### **(6) Columna \"school_name\"**"
   ]
  },
  {
   "cell_type": "code",
   "execution_count": null,
   "metadata": {},
   "outputs": [
    {
     "name": "stdout",
     "output_type": "stream",
     "text": [
      "school_name\n",
      "INSTITUTO NACIONAL DE EDUCACION DIVERSIFICADA                                332\n",
      "INSTITUTO NACIONAL DE EDUCACIÓN DIVERSIFICADA                                 93\n",
      "CENTRO DE EDUCACIÓN EXTRAESCOLAR -CEEX-                                       33\n",
      "INSTITUTO DE EDUCACION DIVERSIFICADA POR COOPERATIVA DE ENSEÑANZA             27\n",
      "INSTITUTO DIVERSIFICADO POR COOPERATIVA                                       23\n",
      "                                                                            ... \n",
      "INSTITUTO PRIVADO MIXTO  SAN JUAN                                              1\n",
      "INSTITUTO DIVERSIFICADO POR COOPERATIVA PROF. CARLOS ROBERTO DONIS OSORIO      1\n",
      "INSTITUTO PARTICULAR MIXTO  RODOLFO GALEOTTI TORRES                            1\n",
      "LICEO PARTICULAR MIXTO  \" JIREH\"                                               1\n",
      "COLEGIO PARTICULAR MIXTO  VERAPAZ                                              1\n",
      "Name: count, Length: 5620, dtype: int64\n"
     ]
    }
   ],
   "source": [
    "# Count occurrences of each unique value\n",
    "value_counts = df['school_name'].value_counts()\n",
    "# Display the occurrences\n",
    "print(value_counts)"
   ]
  },
  {
   "cell_type": "markdown",
   "metadata": {},
   "source": [
    "##### **(1) Limpieza General de la Columna**"
   ]
  },
  {
   "cell_type": "code",
   "execution_count": null,
   "metadata": {},
   "outputs": [],
   "source": [
    "# Convert all entries to strings\n",
    "df['school_name'] = df['school_name'].astype(str)\n",
    "# Capitalizing the values of a single column\n",
    "df['school_name'] = df['school_name'].str.title()\n",
    "# Remove leading/trailing whitespaces\n",
    "df['school_name'] = df['school_name'].str.strip()\n",
    "# Remove special characters and punctuation (keeping letters, numbers, spaces)\n",
    "df['school_name'] = df['school_name'].str.replace(r'[^\\w\\s]', '', regex=True)\n",
    "# Remove extra spaces\n",
    "df['school_name'] = df['school_name'].str.replace(r'\\s+', ' ', regex=True)\n",
    "# Remove accents\n",
    "df['school_name'] = df['school_name'].apply(unidecode)\n",
    "# Assign nan to empty strings and known invalid values\n",
    "df['school_name'].replace([np.nan, ' ', 'Nan'], 'nan', inplace=True)"
   ]
  },
  {
   "cell_type": "markdown",
   "metadata": {},
   "source": [
    "##### **(2) Levenshtein Distance Filtering Para Valores Duplicados**"
   ]
  },
  {
   "cell_type": "code",
   "execution_count": null,
   "metadata": {},
   "outputs": [],
   "source": [
    "# ===== ===== IMPORTANT ===== ===== \n",
    "# Only run this cell if absolutely necessary. \n",
    "# This operation can take approximately 20 minutes to complete.\n",
    "# Apply the replacement of duplicates\n",
    "df = replace_duplicates_fuzzy_threaded(df, 'school_name', threshold=90)"
   ]
  },
  {
   "cell_type": "code",
   "execution_count": null,
   "metadata": {},
   "outputs": [
    {
     "name": "stdout",
     "output_type": "stream",
     "text": [
      "school_name\n",
      "Instituto Nacional De Educacion Diversificada Xekupilaj                            430\n",
      "Enbi Centro De Educacion Extraescolar Ceex                                          50\n",
      "Instituto De Educacion Diversificada Por Cooperativa De Ensenanza Santo Domingo     48\n",
      "Programa De Educacion Alternativa Pronea                                            28\n",
      "Instituto De Computacion Informatica                                                27\n",
      "                                                                                  ... \n",
      "Colegio Privado Mixto Fuente De Sabiduria                                            1\n",
      "Colegio Particular Mixto Luterano El Divino Salvador                                 1\n",
      "Colegio San Francisco Javier De Zacapa                                               1\n",
      "Colegio Particular Mixto Liceo Cristiano Zacapaneco                                  1\n",
      "Instituto De Educacion Basica Y Bachillerato Por Madurez Superacion Integral         1\n",
      "Name: count, Length: 3831, dtype: int64\n"
     ]
    }
   ],
   "source": [
    "# Count occurrences of each unique value\n",
    "value_counts = df['school_name'].value_counts()\n",
    "# Display the occurrences\n",
    "print(value_counts)"
   ]
  },
  {
   "cell_type": "code",
   "execution_count": null,
   "metadata": {},
   "outputs": [],
   "source": [
    "# Replace string 'nan' with actual np.nan in the 'school_name' column only\n",
    "df['school_name'].replace('nan', np.nan, inplace=True)"
   ]
  },
  {
   "cell_type": "code",
   "execution_count": null,
   "metadata": {},
   "outputs": [
    {
     "data": {
      "text/html": [
       "<div>\n",
       "<style scoped>\n",
       "    .dataframe tbody tr th:only-of-type {\n",
       "        vertical-align: middle;\n",
       "    }\n",
       "\n",
       "    .dataframe tbody tr th {\n",
       "        vertical-align: top;\n",
       "    }\n",
       "\n",
       "    .dataframe thead th {\n",
       "        text-align: right;\n",
       "    }\n",
       "</style>\n",
       "<table border=\"1\" class=\"dataframe\">\n",
       "  <thead>\n",
       "    <tr style=\"text-align: right;\">\n",
       "      <th></th>\n",
       "      <th>code</th>\n",
       "      <th>district</th>\n",
       "      <th>department</th>\n",
       "      <th>municipality</th>\n",
       "      <th>school_name</th>\n",
       "      <th>address</th>\n",
       "      <th>phone</th>\n",
       "      <th>supervisor</th>\n",
       "      <th>director</th>\n",
       "      <th>sector</th>\n",
       "      <th>area</th>\n",
       "      <th>status</th>\n",
       "      <th>teaching_mode</th>\n",
       "      <th>schedule</th>\n",
       "      <th>plan</th>\n",
       "      <th>departmental</th>\n",
       "    </tr>\n",
       "  </thead>\n",
       "  <tbody>\n",
       "    <tr>\n",
       "      <th>0</th>\n",
       "      <td>16-01-0138-46</td>\n",
       "      <td>16-031</td>\n",
       "      <td>Alta Verapaz</td>\n",
       "      <td>Coban</td>\n",
       "      <td>Colegio Coban</td>\n",
       "      <td>NaN</td>\n",
       "      <td>77945104</td>\n",
       "      <td>Mercedes Josefina Torres Galvez</td>\n",
       "      <td>GUSTAVO ADOLFO SIERRA POP</td>\n",
       "      <td>PRIVADO</td>\n",
       "      <td>URBANA</td>\n",
       "      <td>ABIERTA</td>\n",
       "      <td>MONOLINGUE</td>\n",
       "      <td>MATUTINA</td>\n",
       "      <td>DIARIO(REGULAR)</td>\n",
       "      <td>ALTA VERAPAZ</td>\n",
       "    </tr>\n",
       "    <tr>\n",
       "      <th>1</th>\n",
       "      <td>16-01-0139-46</td>\n",
       "      <td>16-031</td>\n",
       "      <td>Alta Verapaz</td>\n",
       "      <td>Coban</td>\n",
       "      <td>Colegio Particular Mixto Verapaz</td>\n",
       "      <td>NaN</td>\n",
       "      <td>77367402</td>\n",
       "      <td>Mercedes Josefina Torres Galvez</td>\n",
       "      <td>GILMA DOLORES GUAY PAZ DE LEAL</td>\n",
       "      <td>PRIVADO</td>\n",
       "      <td>URBANA</td>\n",
       "      <td>ABIERTA</td>\n",
       "      <td>MONOLINGUE</td>\n",
       "      <td>MATUTINA</td>\n",
       "      <td>DIARIO(REGULAR)</td>\n",
       "      <td>ALTA VERAPAZ</td>\n",
       "    </tr>\n",
       "    <tr>\n",
       "      <th>2</th>\n",
       "      <td>16-01-0140-46</td>\n",
       "      <td>16-031</td>\n",
       "      <td>Alta Verapaz</td>\n",
       "      <td>Coban</td>\n",
       "      <td>Colegio La Inmaculada</td>\n",
       "      <td>6 Avenida 6-11 Zona 1</td>\n",
       "      <td>78232301</td>\n",
       "      <td>Mercedes Josefina Torres Galvez</td>\n",
       "      <td>VIRGINIA  SOLANO SERRANO</td>\n",
       "      <td>PRIVADO</td>\n",
       "      <td>URBANA</td>\n",
       "      <td>ABIERTA</td>\n",
       "      <td>MONOLINGUE</td>\n",
       "      <td>MATUTINA</td>\n",
       "      <td>DIARIO(REGULAR)</td>\n",
       "      <td>ALTA VERAPAZ</td>\n",
       "    </tr>\n",
       "    <tr>\n",
       "      <th>3</th>\n",
       "      <td>16-01-0141-46</td>\n",
       "      <td>16-005</td>\n",
       "      <td>Alta Verapaz</td>\n",
       "      <td>Coban</td>\n",
       "      <td>Escuela De Ciencias Comerciales Nocturna</td>\n",
       "      <td>11 Calle 11-28 Zona 1</td>\n",
       "      <td>79514215</td>\n",
       "      <td>Rudy Adolfo Tot Och</td>\n",
       "      <td>HÉCTOR ROLANDO CHUN POOU</td>\n",
       "      <td>OFICIAL</td>\n",
       "      <td>URBANA</td>\n",
       "      <td>ABIERTA</td>\n",
       "      <td>MONOLINGUE</td>\n",
       "      <td>MATUTINA</td>\n",
       "      <td>DIARIO(REGULAR)</td>\n",
       "      <td>ALTA VERAPAZ</td>\n",
       "    </tr>\n",
       "    <tr>\n",
       "      <th>4</th>\n",
       "      <td>16-01-0142-46</td>\n",
       "      <td>16-005</td>\n",
       "      <td>Alta Verapaz</td>\n",
       "      <td>Coban</td>\n",
       "      <td>Instituto Normal Mixto Del Norte Emilio Rosale...</td>\n",
       "      <td>6 Avenida 1-22 Zona 1</td>\n",
       "      <td>79521468</td>\n",
       "      <td>Rudy Adolfo Tot Och</td>\n",
       "      <td>VICTOR HUGO DOMÍNGUEZ REYES</td>\n",
       "      <td>OFICIAL</td>\n",
       "      <td>URBANA</td>\n",
       "      <td>ABIERTA</td>\n",
       "      <td>BILINGUE</td>\n",
       "      <td>VESPERTINA</td>\n",
       "      <td>DIARIO(REGULAR)</td>\n",
       "      <td>ALTA VERAPAZ</td>\n",
       "    </tr>\n",
       "  </tbody>\n",
       "</table>\n",
       "</div>"
      ],
      "text/plain": [
       "            code district    department municipality  \\\n",
       "0  16-01-0138-46   16-031  Alta Verapaz        Coban   \n",
       "1  16-01-0139-46   16-031  Alta Verapaz        Coban   \n",
       "2  16-01-0140-46   16-031  Alta Verapaz        Coban   \n",
       "3  16-01-0141-46   16-005  Alta Verapaz        Coban   \n",
       "4  16-01-0142-46   16-005  Alta Verapaz        Coban   \n",
       "\n",
       "                                         school_name                address  \\\n",
       "0                                      Colegio Coban                    NaN   \n",
       "1                   Colegio Particular Mixto Verapaz                    NaN   \n",
       "2                              Colegio La Inmaculada  6 Avenida 6-11 Zona 1   \n",
       "3           Escuela De Ciencias Comerciales Nocturna  11 Calle 11-28 Zona 1   \n",
       "4  Instituto Normal Mixto Del Norte Emilio Rosale...  6 Avenida 1-22 Zona 1   \n",
       "\n",
       "      phone                       supervisor                        director  \\\n",
       "0  77945104  Mercedes Josefina Torres Galvez       GUSTAVO ADOLFO SIERRA POP   \n",
       "1  77367402  Mercedes Josefina Torres Galvez  GILMA DOLORES GUAY PAZ DE LEAL   \n",
       "2  78232301  Mercedes Josefina Torres Galvez        VIRGINIA  SOLANO SERRANO   \n",
       "3  79514215              Rudy Adolfo Tot Och        HÉCTOR ROLANDO CHUN POOU   \n",
       "4  79521468              Rudy Adolfo Tot Och     VICTOR HUGO DOMÍNGUEZ REYES   \n",
       "\n",
       "    sector    area   status teaching_mode    schedule             plan  \\\n",
       "0  PRIVADO  URBANA  ABIERTA    MONOLINGUE    MATUTINA  DIARIO(REGULAR)   \n",
       "1  PRIVADO  URBANA  ABIERTA    MONOLINGUE    MATUTINA  DIARIO(REGULAR)   \n",
       "2  PRIVADO  URBANA  ABIERTA    MONOLINGUE    MATUTINA  DIARIO(REGULAR)   \n",
       "3  OFICIAL  URBANA  ABIERTA    MONOLINGUE    MATUTINA  DIARIO(REGULAR)   \n",
       "4  OFICIAL  URBANA  ABIERTA      BILINGUE  VESPERTINA  DIARIO(REGULAR)   \n",
       "\n",
       "   departmental  \n",
       "0  ALTA VERAPAZ  \n",
       "1  ALTA VERAPAZ  \n",
       "2  ALTA VERAPAZ  \n",
       "3  ALTA VERAPAZ  \n",
       "4  ALTA VERAPAZ  "
      ]
     },
     "execution_count": 63,
     "metadata": {},
     "output_type": "execute_result"
    }
   ],
   "source": [
    "df.head(5)"
   ]
  },
  {
   "cell_type": "markdown",
   "metadata": {},
   "source": [
    "#### **(7) Columna \"director\"**"
   ]
  },
  {
   "cell_type": "code",
   "execution_count": null,
   "metadata": {},
   "outputs": [],
   "source": [
    "df['director'] = result_df_copy['director']"
   ]
  },
  {
   "cell_type": "code",
   "execution_count": null,
   "metadata": {},
   "outputs": [
    {
     "name": "stdout",
     "output_type": "stream",
     "text": [
      "director\n",
      "---                              83\n",
      "----                             28\n",
      "--                               27\n",
      "SIN DATO                         14\n",
      "-----                            14\n",
      "                                 ..\n",
      "ROBIDIO  PORTILLO SALGUERO        1\n",
      "GILDA ARACELY WELLMANN DUARTE     1\n",
      "ERWIN ROLANDO XOL CHUN            1\n",
      "BYRON ANIBAL GÓMEZ GATICA         1\n",
      "JOSE LINO QUIB CHE                1\n",
      "Name: count, Length: 4707, dtype: int64\n"
     ]
    }
   ],
   "source": [
    "# Count occurrences of each unique value\n",
    "value_counts = df['director'].value_counts()\n",
    "# Display the occurrences\n",
    "print(value_counts)"
   ]
  },
  {
   "cell_type": "markdown",
   "metadata": {},
   "source": [
    "##### **(1) Limpieza General de la Columna**\n",
    "A diferencia de la limpieza general de las otras columnas. Se tiene que tomar el cuenta que muchos valores \"nulos\" o vacios son representados por una cadena de ----. "
   ]
  },
  {
   "cell_type": "code",
   "execution_count": null,
   "metadata": {},
   "outputs": [],
   "source": [
    "# Convert all entries to strings\n",
    "df['director'] = df['director'].astype(str)\n",
    "# Capitalizing the values of a single column\n",
    "df['director'] = df['director'].str.title()\n",
    "# Remove leading/trailing whitespaces\n",
    "df['director'] = df['director'].str.strip()\n",
    "# Remove special characters and punctuation (keeping letters, numbers, spaces)\n",
    "df['director'] = df['director'].str.replace(r'[^\\w\\s]', '', regex=True)\n",
    "# Remove extra spaces\n",
    "df['director'] = df['director'].str.replace(r'\\s+', ' ', regex=True)\n",
    "# Remove accents\n",
    "df['director'] = df['director'].apply(unidecode)\n",
    "# Assign nan to empty strings and known invalid values\n",
    "df['director'].replace([np.nan, ' ', '', 'Nan', 'Sin Dato'], 'nan', inplace=True)\n",
    "\n",
    "# If the 'director' column has this patron '-'+, replace it with np.nan , without other characters\n",
    "df['director'] = df['director'].replace(to_replace=r'^-+$', value=np.nan, regex=True)\n"
   ]
  },
  {
   "cell_type": "code",
   "execution_count": null,
   "metadata": {},
   "outputs": [
    {
     "name": "stdout",
     "output_type": "stream",
     "text": [
      "director\n",
      "nan                               1125\n",
      "Jorge Granados Guzman               12\n",
      "Maria Dolores Perez Tuchan          12\n",
      "Miguel Angel Pisquiy Quixtan        11\n",
      "Marco Antonio Castaneda Flores      11\n",
      "                                  ... \n",
      "Aura Ines Lucas Vanegas              1\n",
      "Ana Edelmira Cordon Garcia           1\n",
      "Ana Luisa Gomez Acevedo              1\n",
      "Rosa Lilian Espana Alarcon           1\n",
      "Gloria Isabel Aguirre Morales        1\n",
      "Name: count, Length: 4538, dtype: int64\n"
     ]
    }
   ],
   "source": [
    "# Count occurrences of each unique value\n",
    "value_counts = df['director'].value_counts()\n",
    "# Display the occurrences\n",
    "print(value_counts)"
   ]
  },
  {
   "cell_type": "markdown",
   "metadata": {},
   "source": [
    "##### **(2) Levenshtein Distance Filtering Para Valores Duplicados**"
   ]
  },
  {
   "cell_type": "code",
   "execution_count": null,
   "metadata": {},
   "outputs": [],
   "source": [
    "# ===== ===== IMPORTANT ===== =====\n",
    "# Only run this cell if absolutely necessary. \n",
    "# This operation can take approximately 20 minutes to complete.\n",
    "# Apply the replacement of duplicates\n",
    "df = replace_duplicates_fuzzy_threaded(df, 'director', threshold=90)"
   ]
  },
  {
   "cell_type": "code",
   "execution_count": null,
   "metadata": {},
   "outputs": [],
   "source": [
    "# Count occurrences of each unique value\n",
    "value_counts = df['director'].value_counts()\n",
    "# Display the occurrences\n",
    "print(value_counts)"
   ]
  },
  {
   "cell_type": "code",
   "execution_count": null,
   "metadata": {},
   "outputs": [
    {
     "data": {
      "text/html": [
       "<div>\n",
       "<style scoped>\n",
       "    .dataframe tbody tr th:only-of-type {\n",
       "        vertical-align: middle;\n",
       "    }\n",
       "\n",
       "    .dataframe tbody tr th {\n",
       "        vertical-align: top;\n",
       "    }\n",
       "\n",
       "    .dataframe thead th {\n",
       "        text-align: right;\n",
       "    }\n",
       "</style>\n",
       "<table border=\"1\" class=\"dataframe\">\n",
       "  <thead>\n",
       "    <tr style=\"text-align: right;\">\n",
       "      <th></th>\n",
       "      <th>code</th>\n",
       "      <th>district</th>\n",
       "      <th>department</th>\n",
       "      <th>municipality</th>\n",
       "      <th>school_name</th>\n",
       "      <th>address</th>\n",
       "      <th>phone</th>\n",
       "      <th>supervisor</th>\n",
       "      <th>director</th>\n",
       "      <th>sector</th>\n",
       "      <th>area</th>\n",
       "      <th>status</th>\n",
       "      <th>teaching_mode</th>\n",
       "      <th>schedule</th>\n",
       "      <th>plan</th>\n",
       "      <th>departmental</th>\n",
       "    </tr>\n",
       "  </thead>\n",
       "  <tbody>\n",
       "    <tr>\n",
       "      <th>0</th>\n",
       "      <td>16-01-0138-46</td>\n",
       "      <td>16-031</td>\n",
       "      <td>Alta Verapaz</td>\n",
       "      <td>Coban</td>\n",
       "      <td>Colegio Coban</td>\n",
       "      <td>NaN</td>\n",
       "      <td>77945104</td>\n",
       "      <td>Mercedes Josefina Torres Galvez</td>\n",
       "      <td>Gustavo Adolfo Sierra Pop</td>\n",
       "      <td>PRIVADO</td>\n",
       "      <td>URBANA</td>\n",
       "      <td>ABIERTA</td>\n",
       "      <td>MONOLINGUE</td>\n",
       "      <td>MATUTINA</td>\n",
       "      <td>DIARIO(REGULAR)</td>\n",
       "      <td>ALTA VERAPAZ</td>\n",
       "    </tr>\n",
       "    <tr>\n",
       "      <th>1</th>\n",
       "      <td>16-01-0139-46</td>\n",
       "      <td>16-031</td>\n",
       "      <td>Alta Verapaz</td>\n",
       "      <td>Coban</td>\n",
       "      <td>Colegio Particular Mixto Verapaz</td>\n",
       "      <td>NaN</td>\n",
       "      <td>77367402</td>\n",
       "      <td>Mercedes Josefina Torres Galvez</td>\n",
       "      <td>Gilma Dolores Guay Paz De Leal</td>\n",
       "      <td>PRIVADO</td>\n",
       "      <td>URBANA</td>\n",
       "      <td>ABIERTA</td>\n",
       "      <td>MONOLINGUE</td>\n",
       "      <td>MATUTINA</td>\n",
       "      <td>DIARIO(REGULAR)</td>\n",
       "      <td>ALTA VERAPAZ</td>\n",
       "    </tr>\n",
       "    <tr>\n",
       "      <th>2</th>\n",
       "      <td>16-01-0140-46</td>\n",
       "      <td>16-031</td>\n",
       "      <td>Alta Verapaz</td>\n",
       "      <td>Coban</td>\n",
       "      <td>Colegio La Inmaculada</td>\n",
       "      <td>6 Avenida 6-11 Zona 1</td>\n",
       "      <td>78232301</td>\n",
       "      <td>Mercedes Josefina Torres Galvez</td>\n",
       "      <td>Virginia Solano Serrano</td>\n",
       "      <td>PRIVADO</td>\n",
       "      <td>URBANA</td>\n",
       "      <td>ABIERTA</td>\n",
       "      <td>MONOLINGUE</td>\n",
       "      <td>MATUTINA</td>\n",
       "      <td>DIARIO(REGULAR)</td>\n",
       "      <td>ALTA VERAPAZ</td>\n",
       "    </tr>\n",
       "    <tr>\n",
       "      <th>3</th>\n",
       "      <td>16-01-0141-46</td>\n",
       "      <td>16-005</td>\n",
       "      <td>Alta Verapaz</td>\n",
       "      <td>Coban</td>\n",
       "      <td>Escuela De Ciencias Comerciales Nocturna</td>\n",
       "      <td>11 Calle 11-28 Zona 1</td>\n",
       "      <td>79514215</td>\n",
       "      <td>Rudy Adolfo Tot Och</td>\n",
       "      <td>Hector Rolando Chun Poou</td>\n",
       "      <td>OFICIAL</td>\n",
       "      <td>URBANA</td>\n",
       "      <td>ABIERTA</td>\n",
       "      <td>MONOLINGUE</td>\n",
       "      <td>MATUTINA</td>\n",
       "      <td>DIARIO(REGULAR)</td>\n",
       "      <td>ALTA VERAPAZ</td>\n",
       "    </tr>\n",
       "    <tr>\n",
       "      <th>4</th>\n",
       "      <td>16-01-0142-46</td>\n",
       "      <td>16-005</td>\n",
       "      <td>Alta Verapaz</td>\n",
       "      <td>Coban</td>\n",
       "      <td>Instituto Normal Mixto Del Norte Emilio Rosale...</td>\n",
       "      <td>6 Avenida 1-22 Zona 1</td>\n",
       "      <td>79521468</td>\n",
       "      <td>Rudy Adolfo Tot Och</td>\n",
       "      <td>Victor Hugo Dominguez Reyes</td>\n",
       "      <td>OFICIAL</td>\n",
       "      <td>URBANA</td>\n",
       "      <td>ABIERTA</td>\n",
       "      <td>BILINGUE</td>\n",
       "      <td>VESPERTINA</td>\n",
       "      <td>DIARIO(REGULAR)</td>\n",
       "      <td>ALTA VERAPAZ</td>\n",
       "    </tr>\n",
       "  </tbody>\n",
       "</table>\n",
       "</div>"
      ],
      "text/plain": [
       "            code district    department municipality  \\\n",
       "0  16-01-0138-46   16-031  Alta Verapaz        Coban   \n",
       "1  16-01-0139-46   16-031  Alta Verapaz        Coban   \n",
       "2  16-01-0140-46   16-031  Alta Verapaz        Coban   \n",
       "3  16-01-0141-46   16-005  Alta Verapaz        Coban   \n",
       "4  16-01-0142-46   16-005  Alta Verapaz        Coban   \n",
       "\n",
       "                                         school_name                address  \\\n",
       "0                                      Colegio Coban                    NaN   \n",
       "1                   Colegio Particular Mixto Verapaz                    NaN   \n",
       "2                              Colegio La Inmaculada  6 Avenida 6-11 Zona 1   \n",
       "3           Escuela De Ciencias Comerciales Nocturna  11 Calle 11-28 Zona 1   \n",
       "4  Instituto Normal Mixto Del Norte Emilio Rosale...  6 Avenida 1-22 Zona 1   \n",
       "\n",
       "      phone                       supervisor                        director  \\\n",
       "0  77945104  Mercedes Josefina Torres Galvez       Gustavo Adolfo Sierra Pop   \n",
       "1  77367402  Mercedes Josefina Torres Galvez  Gilma Dolores Guay Paz De Leal   \n",
       "2  78232301  Mercedes Josefina Torres Galvez         Virginia Solano Serrano   \n",
       "3  79514215              Rudy Adolfo Tot Och        Hector Rolando Chun Poou   \n",
       "4  79521468              Rudy Adolfo Tot Och     Victor Hugo Dominguez Reyes   \n",
       "\n",
       "    sector    area   status teaching_mode    schedule             plan  \\\n",
       "0  PRIVADO  URBANA  ABIERTA    MONOLINGUE    MATUTINA  DIARIO(REGULAR)   \n",
       "1  PRIVADO  URBANA  ABIERTA    MONOLINGUE    MATUTINA  DIARIO(REGULAR)   \n",
       "2  PRIVADO  URBANA  ABIERTA    MONOLINGUE    MATUTINA  DIARIO(REGULAR)   \n",
       "3  OFICIAL  URBANA  ABIERTA    MONOLINGUE    MATUTINA  DIARIO(REGULAR)   \n",
       "4  OFICIAL  URBANA  ABIERTA      BILINGUE  VESPERTINA  DIARIO(REGULAR)   \n",
       "\n",
       "   departmental  \n",
       "0  ALTA VERAPAZ  \n",
       "1  ALTA VERAPAZ  \n",
       "2  ALTA VERAPAZ  \n",
       "3  ALTA VERAPAZ  \n",
       "4  ALTA VERAPAZ  "
      ]
     },
     "execution_count": 81,
     "metadata": {},
     "output_type": "execute_result"
    }
   ],
   "source": [
    "df.head(5)"
   ]
  },
  {
   "cell_type": "markdown",
   "metadata": {},
   "source": [
    "#### **(8) Columna \"sector\"**"
   ]
  },
  {
   "cell_type": "code",
   "execution_count": null,
   "metadata": {},
   "outputs": [
    {
     "name": "stdout",
     "output_type": "stream",
     "text": [
      "sector\n",
      "PRIVADO        7956\n",
      "OFICIAL         990\n",
      "COOPERATIVA     245\n",
      "MUNICIPAL       140\n",
      "Name: count, dtype: int64\n"
     ]
    }
   ],
   "source": [
    "# Count occurrences of each unique value\n",
    "value_counts = df['sector'].value_counts()\n",
    "# Display the occurrences\n",
    "print(value_counts)"
   ]
  },
  {
   "cell_type": "markdown",
   "metadata": {},
   "source": [
    "##### **(1) Limpieza General de la Columna**"
   ]
  },
  {
   "cell_type": "code",
   "execution_count": null,
   "metadata": {},
   "outputs": [],
   "source": [
    "# Convert all entries to strings\n",
    "df['sector'] = df['sector'].astype(str)\n",
    "# Capitalizing the values of a single column\n",
    "df['sector'] = df['sector'].str.title()\n",
    "# Remove leading/trailing whitespaces\n",
    "df['sector'] = df['sector'].str.strip()"
   ]
  },
  {
   "cell_type": "code",
   "execution_count": null,
   "metadata": {},
   "outputs": [
    {
     "name": "stdout",
     "output_type": "stream",
     "text": [
      "sector\n",
      "Privado        7956\n",
      "Oficial         990\n",
      "Cooperativa     245\n",
      "Municipal       140\n",
      "Nan               1\n",
      "Name: count, dtype: int64\n"
     ]
    }
   ],
   "source": [
    "# Count occurrences of each unique value\n",
    "value_counts = df['sector'].value_counts()\n",
    "# Display the occurrences\n",
    "print(value_counts)"
   ]
  },
  {
   "cell_type": "markdown",
   "metadata": {},
   "source": [
    "#### **(9) Columna \"area\"**"
   ]
  },
  {
   "cell_type": "code",
   "execution_count": null,
   "metadata": {},
   "outputs": [
    {
     "name": "stdout",
     "output_type": "stream",
     "text": [
      "area\n",
      "URBANA             7606\n",
      "RURAL              1723\n",
      "SIN ESPECIFICAR       2\n",
      "Name: count, dtype: int64\n"
     ]
    }
   ],
   "source": [
    "# Count occurrences of each unique value\n",
    "value_counts = df['area'].value_counts()\n",
    "# Display the occurrences\n",
    "print(value_counts)"
   ]
  },
  {
   "cell_type": "markdown",
   "metadata": {},
   "source": [
    "##### **(1) Limpieza General de la Columna**"
   ]
  },
  {
   "cell_type": "code",
   "execution_count": null,
   "metadata": {},
   "outputs": [],
   "source": [
    "# Convert all entries to strings\n",
    "df['area'] = df['area'].astype(str)\n",
    "# Capitalizing the values of a single column\n",
    "df['area'] = df['area'].str.title()\n",
    "# Remove leading/trailing whitespaces\n",
    "df['area'] = df['area'].str.strip()\n",
    "# Remplace 'Sin especificar' with np.nan\n",
    "df['area'] = df['area'].replace(['Nan','Sin Especificar'], 'nan')"
   ]
  },
  {
   "cell_type": "code",
   "execution_count": null,
   "metadata": {},
   "outputs": [
    {
     "name": "stdout",
     "output_type": "stream",
     "text": [
      "area\n",
      "Urbana    7606\n",
      "Rural     1723\n",
      "nan          3\n",
      "Name: count, dtype: int64\n"
     ]
    }
   ],
   "source": [
    "# Count occurrences of each unique value\n",
    "value_counts = df['area'].value_counts()\n",
    "# Display the occurrences\n",
    "print(value_counts)"
   ]
  },
  {
   "cell_type": "markdown",
   "metadata": {},
   "source": [
    "#### **(10) Columna \"status\"**"
   ]
  },
  {
   "cell_type": "code",
   "execution_count": null,
   "metadata": {},
   "outputs": [
    {
     "name": "stdout",
     "output_type": "stream",
     "text": [
      "status\n",
      "ABIERTA                  6545\n",
      "CERRADA TEMPORALMENTE    2663\n",
      "TEMPORAL TITULOS          120\n",
      "TEMPORAL NOMBRAMIENTO       3\n",
      "Name: count, dtype: int64\n"
     ]
    }
   ],
   "source": [
    "# Count occurrences of each unique value\n",
    "value_counts = df['status'].value_counts()\n",
    "# Display the occurrences\n",
    "print(value_counts)"
   ]
  },
  {
   "cell_type": "markdown",
   "metadata": {},
   "source": [
    "##### **(1) Limpieza General de la Columna**"
   ]
  },
  {
   "cell_type": "code",
   "execution_count": null,
   "metadata": {},
   "outputs": [],
   "source": [
    "# Convert all entries to strings\n",
    "df['status'] = df['status'].astype(str)\n",
    "# Capitalizing the values of a single column\n",
    "df['status'] = df['status'].str.title()\n",
    "# Remove leading/trailing whitespaces\n",
    "df['status'] = df['status'].str.strip()\n",
    "# Remplace 'Sin especificar' with np.nan\n",
    "df['status'] = df['status'].replace(['Nan'], 'nan')"
   ]
  },
  {
   "cell_type": "code",
   "execution_count": null,
   "metadata": {},
   "outputs": [
    {
     "name": "stdout",
     "output_type": "stream",
     "text": [
      "status\n",
      "Abierta                  6545\n",
      "Cerrada Temporalmente    2663\n",
      "Temporal Titulos          120\n",
      "Temporal Nombramiento       3\n",
      "nan                         1\n",
      "Name: count, dtype: int64\n"
     ]
    }
   ],
   "source": [
    "# Count occurrences of each unique value\n",
    "value_counts = df['status'].value_counts()\n",
    "# Display the occurrences\n",
    "print(value_counts)"
   ]
  },
  {
   "cell_type": "markdown",
   "metadata": {},
   "source": [
    "#### **(11) Columna \"teaching_mode\"**"
   ]
  },
  {
   "cell_type": "code",
   "execution_count": null,
   "metadata": {},
   "outputs": [
    {
     "name": "stdout",
     "output_type": "stream",
     "text": [
      "teaching_mode\n",
      "MONOLINGUE    9039\n",
      "BILINGUE       292\n",
      "Name: count, dtype: int64\n"
     ]
    }
   ],
   "source": [
    "# Count occurrences of each unique value\n",
    "value_counts = df['teaching_mode'].value_counts()\n",
    "# Display the occurrences\n",
    "print(value_counts)"
   ]
  },
  {
   "cell_type": "markdown",
   "metadata": {},
   "source": [
    "##### **(1) Limpieza General de la Columna**"
   ]
  },
  {
   "cell_type": "code",
   "execution_count": null,
   "metadata": {},
   "outputs": [],
   "source": [
    "# Convert all entries to strings\n",
    "df['teaching_mode'] = df['teaching_mode'].astype(str)\n",
    "# Capitalizing the values of a single column\n",
    "df['teaching_mode'] = df['teaching_mode'].str.title()\n",
    "# Remove leading/trailing whitespaces\n",
    "df['teaching_mode'] = df['teaching_mode'].str.strip()\n",
    "\n",
    "# Remplace 'Nan' with 'nan'\n",
    "df['teaching_mode'] = df['teaching_mode'].replace(['Nan'], 'nan')"
   ]
  },
  {
   "cell_type": "code",
   "execution_count": null,
   "metadata": {},
   "outputs": [
    {
     "name": "stdout",
     "output_type": "stream",
     "text": [
      "teaching_mode\n",
      "Monolingue    9039\n",
      "Bilingue       292\n",
      "nan              1\n",
      "Name: count, dtype: int64\n"
     ]
    }
   ],
   "source": [
    "# Count occurrences of each unique value\n",
    "value_counts = df['teaching_mode'].value_counts()\n",
    "# Display the occurrences\n",
    "print(value_counts)"
   ]
  },
  {
   "cell_type": "markdown",
   "metadata": {},
   "source": [
    "#### **(12) Columna \"schedule\"**"
   ]
  },
  {
   "cell_type": "code",
   "execution_count": null,
   "metadata": {},
   "outputs": [
    {
     "name": "stdout",
     "output_type": "stream",
     "text": [
      "schedule\n",
      "DOBLE          3037\n",
      "VESPERTINA     2567\n",
      "MATUTINA       2382\n",
      "SIN JORNADA     964\n",
      "NOCTURNA        289\n",
      "INTERMEDIA       92\n",
      "Name: count, dtype: int64\n"
     ]
    }
   ],
   "source": [
    "# Count occurrences of each unique value\n",
    "value_counts = df['schedule'].value_counts()\n",
    "# Display the occurrences\n",
    "print(value_counts)"
   ]
  },
  {
   "cell_type": "markdown",
   "metadata": {},
   "source": [
    "##### **(1) Limpieza General de la Columna**"
   ]
  },
  {
   "cell_type": "code",
   "execution_count": null,
   "metadata": {},
   "outputs": [],
   "source": [
    "# Convert all entries to strings\n",
    "df['schedule'] = df['schedule'].astype(str)\n",
    "# Capitalizing the values of a single column\n",
    "df['schedule'] = df['schedule'].str.title()\n",
    "# Remove leading/trailing whitespaces\n",
    "df['schedule'] = df['schedule'].str.strip()\n",
    "\n",
    "# Remplace 'Nan' with 'nan'\n",
    "df['schedule'] = df['schedule'].replace(['Nan', 'Sin Jornada'], 'nan')"
   ]
  },
  {
   "cell_type": "code",
   "execution_count": null,
   "metadata": {},
   "outputs": [
    {
     "name": "stdout",
     "output_type": "stream",
     "text": [
      "schedule\n",
      "Doble         3037\n",
      "Vespertina    2567\n",
      "Matutina      2382\n",
      "nan            965\n",
      "Nocturna       289\n",
      "Intermedia      92\n",
      "Name: count, dtype: int64\n"
     ]
    }
   ],
   "source": [
    "# Count occurrences of each unique value\n",
    "value_counts = df['schedule'].value_counts()\n",
    "# Display the occurrences\n",
    "print(value_counts)"
   ]
  },
  {
   "cell_type": "code",
   "execution_count": null,
   "metadata": {},
   "outputs": [
    {
     "data": {
      "text/html": [
       "<div>\n",
       "<style scoped>\n",
       "    .dataframe tbody tr th:only-of-type {\n",
       "        vertical-align: middle;\n",
       "    }\n",
       "\n",
       "    .dataframe tbody tr th {\n",
       "        vertical-align: top;\n",
       "    }\n",
       "\n",
       "    .dataframe thead th {\n",
       "        text-align: right;\n",
       "    }\n",
       "</style>\n",
       "<table border=\"1\" class=\"dataframe\">\n",
       "  <thead>\n",
       "    <tr style=\"text-align: right;\">\n",
       "      <th></th>\n",
       "      <th>code</th>\n",
       "      <th>district</th>\n",
       "      <th>department</th>\n",
       "      <th>municipality</th>\n",
       "      <th>school_name</th>\n",
       "      <th>address</th>\n",
       "      <th>phone</th>\n",
       "      <th>supervisor</th>\n",
       "      <th>director</th>\n",
       "      <th>sector</th>\n",
       "      <th>area</th>\n",
       "      <th>status</th>\n",
       "      <th>teaching_mode</th>\n",
       "      <th>schedule</th>\n",
       "      <th>plan</th>\n",
       "      <th>departmental</th>\n",
       "    </tr>\n",
       "  </thead>\n",
       "  <tbody>\n",
       "    <tr>\n",
       "      <th>0</th>\n",
       "      <td>16-01-0138-46</td>\n",
       "      <td>16-031</td>\n",
       "      <td>Alta Verapaz</td>\n",
       "      <td>Coban</td>\n",
       "      <td>Colegio Coban</td>\n",
       "      <td>NaN</td>\n",
       "      <td>77945104</td>\n",
       "      <td>Mercedes Josefina Torres Galvez</td>\n",
       "      <td>Gustavo Adolfo Sierra Pop</td>\n",
       "      <td>Privado</td>\n",
       "      <td>Urbana</td>\n",
       "      <td>Abierta</td>\n",
       "      <td>Monolingue</td>\n",
       "      <td>Matutina</td>\n",
       "      <td>DIARIO(REGULAR)</td>\n",
       "      <td>ALTA VERAPAZ</td>\n",
       "    </tr>\n",
       "    <tr>\n",
       "      <th>1</th>\n",
       "      <td>16-01-0139-46</td>\n",
       "      <td>16-031</td>\n",
       "      <td>Alta Verapaz</td>\n",
       "      <td>Coban</td>\n",
       "      <td>Colegio Particular Mixto Verapaz</td>\n",
       "      <td>NaN</td>\n",
       "      <td>77367402</td>\n",
       "      <td>Mercedes Josefina Torres Galvez</td>\n",
       "      <td>Gilma Dolores Guay Paz De Leal</td>\n",
       "      <td>Privado</td>\n",
       "      <td>Urbana</td>\n",
       "      <td>Abierta</td>\n",
       "      <td>Monolingue</td>\n",
       "      <td>Matutina</td>\n",
       "      <td>DIARIO(REGULAR)</td>\n",
       "      <td>ALTA VERAPAZ</td>\n",
       "    </tr>\n",
       "    <tr>\n",
       "      <th>2</th>\n",
       "      <td>16-01-0140-46</td>\n",
       "      <td>16-031</td>\n",
       "      <td>Alta Verapaz</td>\n",
       "      <td>Coban</td>\n",
       "      <td>Colegio La Inmaculada</td>\n",
       "      <td>6 Avenida 6-11 Zona 1</td>\n",
       "      <td>78232301</td>\n",
       "      <td>Mercedes Josefina Torres Galvez</td>\n",
       "      <td>Virginia Solano Serrano</td>\n",
       "      <td>Privado</td>\n",
       "      <td>Urbana</td>\n",
       "      <td>Abierta</td>\n",
       "      <td>Monolingue</td>\n",
       "      <td>Matutina</td>\n",
       "      <td>DIARIO(REGULAR)</td>\n",
       "      <td>ALTA VERAPAZ</td>\n",
       "    </tr>\n",
       "    <tr>\n",
       "      <th>3</th>\n",
       "      <td>16-01-0141-46</td>\n",
       "      <td>16-005</td>\n",
       "      <td>Alta Verapaz</td>\n",
       "      <td>Coban</td>\n",
       "      <td>Escuela De Ciencias Comerciales Nocturna</td>\n",
       "      <td>11 Calle 11-28 Zona 1</td>\n",
       "      <td>79514215</td>\n",
       "      <td>Rudy Adolfo Tot Och</td>\n",
       "      <td>Hector Rolando Chun Poou</td>\n",
       "      <td>Oficial</td>\n",
       "      <td>Urbana</td>\n",
       "      <td>Abierta</td>\n",
       "      <td>Monolingue</td>\n",
       "      <td>Matutina</td>\n",
       "      <td>DIARIO(REGULAR)</td>\n",
       "      <td>ALTA VERAPAZ</td>\n",
       "    </tr>\n",
       "    <tr>\n",
       "      <th>4</th>\n",
       "      <td>16-01-0142-46</td>\n",
       "      <td>16-005</td>\n",
       "      <td>Alta Verapaz</td>\n",
       "      <td>Coban</td>\n",
       "      <td>Instituto Normal Mixto Del Norte Emilio Rosale...</td>\n",
       "      <td>6 Avenida 1-22 Zona 1</td>\n",
       "      <td>79521468</td>\n",
       "      <td>Rudy Adolfo Tot Och</td>\n",
       "      <td>Victor Hugo Dominguez Reyes</td>\n",
       "      <td>Oficial</td>\n",
       "      <td>Urbana</td>\n",
       "      <td>Abierta</td>\n",
       "      <td>Bilingue</td>\n",
       "      <td>Vespertina</td>\n",
       "      <td>DIARIO(REGULAR)</td>\n",
       "      <td>ALTA VERAPAZ</td>\n",
       "    </tr>\n",
       "  </tbody>\n",
       "</table>\n",
       "</div>"
      ],
      "text/plain": [
       "            code district    department municipality  \\\n",
       "0  16-01-0138-46   16-031  Alta Verapaz        Coban   \n",
       "1  16-01-0139-46   16-031  Alta Verapaz        Coban   \n",
       "2  16-01-0140-46   16-031  Alta Verapaz        Coban   \n",
       "3  16-01-0141-46   16-005  Alta Verapaz        Coban   \n",
       "4  16-01-0142-46   16-005  Alta Verapaz        Coban   \n",
       "\n",
       "                                         school_name                address  \\\n",
       "0                                      Colegio Coban                    NaN   \n",
       "1                   Colegio Particular Mixto Verapaz                    NaN   \n",
       "2                              Colegio La Inmaculada  6 Avenida 6-11 Zona 1   \n",
       "3           Escuela De Ciencias Comerciales Nocturna  11 Calle 11-28 Zona 1   \n",
       "4  Instituto Normal Mixto Del Norte Emilio Rosale...  6 Avenida 1-22 Zona 1   \n",
       "\n",
       "      phone                       supervisor                        director  \\\n",
       "0  77945104  Mercedes Josefina Torres Galvez       Gustavo Adolfo Sierra Pop   \n",
       "1  77367402  Mercedes Josefina Torres Galvez  Gilma Dolores Guay Paz De Leal   \n",
       "2  78232301  Mercedes Josefina Torres Galvez         Virginia Solano Serrano   \n",
       "3  79514215              Rudy Adolfo Tot Och        Hector Rolando Chun Poou   \n",
       "4  79521468              Rudy Adolfo Tot Och     Victor Hugo Dominguez Reyes   \n",
       "\n",
       "    sector    area   status teaching_mode    schedule             plan  \\\n",
       "0  Privado  Urbana  Abierta    Monolingue    Matutina  DIARIO(REGULAR)   \n",
       "1  Privado  Urbana  Abierta    Monolingue    Matutina  DIARIO(REGULAR)   \n",
       "2  Privado  Urbana  Abierta    Monolingue    Matutina  DIARIO(REGULAR)   \n",
       "3  Oficial  Urbana  Abierta    Monolingue    Matutina  DIARIO(REGULAR)   \n",
       "4  Oficial  Urbana  Abierta      Bilingue  Vespertina  DIARIO(REGULAR)   \n",
       "\n",
       "   departmental  \n",
       "0  ALTA VERAPAZ  \n",
       "1  ALTA VERAPAZ  \n",
       "2  ALTA VERAPAZ  \n",
       "3  ALTA VERAPAZ  \n",
       "4  ALTA VERAPAZ  "
      ]
     },
     "execution_count": 110,
     "metadata": {},
     "output_type": "execute_result"
    }
   ],
   "source": [
    "df.head(5)"
   ]
  },
  {
   "cell_type": "markdown",
   "metadata": {},
   "source": [
    "#### **(13) Columna \"phone\"**"
   ]
  },
  {
   "cell_type": "markdown",
   "metadata": {},
   "source": [
    "La columna de números telefónicos puede asumir una amplia gama de valores, ya que es una variable cualitativa descriptiva. El enfoque principal para limpiar esta columna es garantizar que todos los números telefónicos sean válidos y estén en el mismo formato. Para que un número telefónico se considere válido, debe consistir en uno o más números de 8 dígitos. Si un número no cumple con el formato XXXX-XXXX, se transformará a este formato. Cualquier número que no se ajuste a estos criterios será considerado inválido y se tratará como un valor faltante."
   ]
  },
  {
   "cell_type": "markdown",
   "metadata": {},
   "source": [
    "Como primer paso, se realizará una revisión rápida de los valores únicos en la columna. No se espera encontrar muchos valores repetidos, ya que, en general, los números telefónicos deberían ser únicos para cada establecimiento."
   ]
  },
  {
   "cell_type": "code",
   "execution_count": 26,
   "metadata": {},
   "outputs": [
    {
     "name": "stdout",
     "output_type": "stream",
     "text": [
      "phone\n",
      "22067425    21\n",
      "79480009    14\n",
      "77602663    13\n",
      "22093200    12\n",
      "77746400    11\n",
      "            ..\n",
      "22178787     1\n",
      "44314143     1\n",
      "55515824     1\n",
      "24779548     1\n",
      "41447589     1\n",
      "Name: count, Length: 5460, dtype: int64\n"
     ]
    }
   ],
   "source": [
    "# Count occurrences of each unique value\n",
    "value_counts = df['phone'].value_counts()\n",
    "# Display the occurrences\n",
    "print(value_counts)"
   ]
  },
  {
   "cell_type": "markdown",
   "metadata": {},
   "source": [
    "##### **(1) Limpieza general de la columa**"
   ]
  },
  {
   "cell_type": "markdown",
   "metadata": {},
   "source": [
    "Como paso previo a las operaciones más complejas de conversión de formato, se llevarán a cabo las acciones necesarias para asegurar que todos los valores de la columna sean cadenas de texto sin espacios en blanco redundantes, conteniendo uno o más números telefónicos o un valor que indique la ausencia de estos."
   ]
  },
  {
   "cell_type": "code",
   "execution_count": 29,
   "metadata": {},
   "outputs": [],
   "source": [
    "# Convert all entries to strings\n",
    "df['phone'] = df['phone'].astype(str)\n",
    "# Remove leading/trailing whitespaces\n",
    "df['phone'] = df['phone'].str.strip()\n",
    "# Assign nan to empty strings and known invalid values\n",
    "df['phone'].replace([np.nan, ' ', '', 'Nan', 'Sin Dato'], 'nan', inplace=True)"
   ]
  },
  {
   "cell_type": "markdown",
   "metadata": {},
   "source": [
    "##### **(2) Estandarización de formato de números telefónicos**"
   ]
  },
  {
   "cell_type": "markdown",
   "metadata": {},
   "source": [
    "En el conjunto de datos original, el formato más común de número telefónico es XXXXXXXX. Sin embargo, hay múltiples entradas con más de un número telefónico, separados por un guion '-'. Además, algunas entradas tienen el formato XXXXXXXX-XX, que representa una abreviación de dos números telefónicos consecutivos. Por ejemplo, la entrada 24796595-96 corresponde a los números 24796595 y 24796596. También hay algunas entradas que ya están en el formato correcto, y otras que no son válidas. Entre estas últimas, se encuentran números de fax (7 dígitos) y números telefónicos antiguos (6 dígitos), los cuales no son válidos actualmente y se convertirán en valores faltantes para garantizar que todas las entradas representen un número telefónico utilizable. Las demás operaciones se enfocarán en transformar los casos mencionados al formato establecido."
   ]
  },
  {
   "cell_type": "code",
   "execution_count": 30,
   "metadata": {},
   "outputs": [],
   "source": [
    "# Function to format phone numbers\n",
    "def format_phone_number(phone):\n",
    "    # Check if the phone number is too short or contains any letters\n",
    "    if len(phone) < 8 or re.search(r'[A-Za-z]', phone):\n",
    "        return 'nan'\n",
    "    \n",
    "    # If the phone number contains a hyphen\n",
    "    if '-' in phone:\n",
    "        # Split the phone number by the hyphen\n",
    "        phone_split = phone.split('-')\n",
    "        \n",
    "        # Case 1: More than one hyphen in the phone number\n",
    "        if len(phone_split) > 2:\n",
    "            # Check if all parts are 8 digits long\n",
    "            if all(len(num) == 8 for num in phone_split):\n",
    "                # Return each part formatted with a hyphen in the middle\n",
    "                return [f'{num[:len(num) // 2]}-{num[len(num) // 2:]}' for num in phone_split]\n",
    "            else:\n",
    "                return 'nan'\n",
    "        \n",
    "        # Case 2: Exactly one hyphen in the phone number\n",
    "        elif len(phone_split) == 2:\n",
    "            # Sub-case: If the second part is abbreviated\n",
    "            if len(phone_split[1]) <= 2:\n",
    "                # Move digits from the first part to the second part\n",
    "                phone_split[1] = phone_split[0][: -len(phone_split[1]) ] + phone_split[1]\n",
    "                # Return both parts formatted with a hyphen in the middle\n",
    "                return [f'{num[:len(num) // 2]}-{num[len(num) // 2:]}' for num in phone_split]\n",
    "            \n",
    "            # Sub-case: If both parts are exactly 4 digits long\n",
    "            elif len(phone_split[0]) == 4 and len(phone_split[1]) == 4:\n",
    "                # Return the phone number as it is\n",
    "                return ['-'.join(phone_split)]\n",
    "\n",
    "            # Sub-case: If both parts are 8 digits long\n",
    "            if all(len(num) == 8 for num in phone_split):\n",
    "                # Return both parts formatted with a hyphen in the middle\n",
    "                return [f'{num[:len(num) // 2]}-{num[len(num) // 2:]}' for num in phone_split]\n",
    "            else:\n",
    "                return 'nan'\n",
    "\n",
    "    # Case 3: If no hyphen is present\n",
    "    else:\n",
    "        # Calculate the midpoint to insert the hyphen\n",
    "        mid_point = len(phone) // 2\n",
    "        # Return the phone number formatted with a hyphen in the middle\n",
    "        return [f'{phone[:mid_point]}-{phone[mid_point:]}']\n",
    "\n",
    "# Apply the function to the phone number column\n",
    "df['phone'] = df['phone'].apply(format_phone_number)\n",
    "# Assign nan to empty strings and known invalid values\n",
    "df['phone'].replace('nan', np.nan, inplace=True)"
   ]
  },
  {
   "cell_type": "code",
   "execution_count": 34,
   "metadata": {},
   "outputs": [
    {
     "data": {
      "text/plain": [
       "phone\n",
       "[2206-7425]    21\n",
       "[7948-0009]    14\n",
       "[7760-2663]    13\n",
       "[2209-3200]    12\n",
       "[4535-3648]    11\n",
       "               ..\n",
       "[2437-7078]     1\n",
       "[2443-3241]     1\n",
       "[2384-1000]     1\n",
       "[2432-6955]     1\n",
       "[4144-7589]     1\n",
       "Name: count, Length: 5403, dtype: int64"
      ]
     },
     "execution_count": 34,
     "metadata": {},
     "output_type": "execute_result"
    }
   ],
   "source": [
    "df['phone'].value_counts()"
   ]
  },
  {
   "cell_type": "markdown",
   "metadata": {},
   "source": [
    "#### **(14) Columna \"plan\"**"
   ]
  },
  {
   "cell_type": "markdown",
   "metadata": {},
   "source": [
    "La columna \"plan\" contiene valores que representan el plan educativo implementado en el establecimiento, como diario, fines de semana, semipresencial, entre otros. Antes de realizar cualquier acción de limpieza, es importante revisar los valores presentes en esta columna."
   ]
  },
  {
   "cell_type": "code",
   "execution_count": 35,
   "metadata": {},
   "outputs": [
    {
     "name": "stdout",
     "output_type": "stream",
     "text": [
      "plan\n",
      "DIARIO(REGULAR)                          5721\n",
      "FIN DE SEMANA                            2328\n",
      "SEMIPRESENCIAL (FIN DE SEMANA)            481\n",
      "SEMIPRESENCIAL (UN DÍA A LA SEMANA)       398\n",
      "A DISTANCIA                               143\n",
      "SEMIPRESENCIAL                             86\n",
      "SEMIPRESENCIAL (DOS DÍAS A LA SEMANA)      57\n",
      "VIRTUAL A DISTANCIA                        50\n",
      "SABATINO                                   41\n",
      "DOMINICAL                                  19\n",
      "MIXTO                                       3\n",
      "INTERCALADO                                 2\n",
      "IRREGULAR                                   2\n",
      "Name: count, dtype: int64\n"
     ]
    }
   ],
   "source": [
    "# Count occurrences of each unique value\n",
    "value_counts = df['plan'].value_counts()\n",
    "# Display the occurrences\n",
    "print(value_counts)"
   ]
  },
  {
   "cell_type": "markdown",
   "metadata": {},
   "source": [
    "Al analizar las frecuencias de la columna, se observa la presencia de algunas entradas redundantes. Por ejemplo, las entradas correspondientes a \"semipresencial\" están divididas en cuatro clasificaciones, lo cual es innecesario. Asimismo, sería conveniente agrupar las entradas de \"fines de semana\" con \"sabatino\" y \"dominical\", ya que representan lo mismo. Un enfoque similar se puede aplicar a \"a distancia/virtual a distancia\" y a \"mixto/intercalado\".\n",
    "\n",
    "Para resolver estas redundancias, se agruparán los valores mencionados anteriormente, con el objetivo de reducir la cantidad de valores que se pueden asumir en esta columna."
   ]
  },
  {
   "cell_type": "markdown",
   "metadata": {},
   "source": [
    "##### **(1) Preparación de la columna**"
   ]
  },
  {
   "cell_type": "markdown",
   "metadata": {},
   "source": [
    "Al no contar con valores faltantes, la única transformación necesaria previo al agrupamiento es asegurar que todas las entradas son cadenas."
   ]
  },
  {
   "cell_type": "code",
   "execution_count": 38,
   "metadata": {},
   "outputs": [],
   "source": [
    "# Convert all entries to strings\n",
    "df['plan'] = df['plan'].astype(str)"
   ]
  },
  {
   "cell_type": "markdown",
   "metadata": {},
   "source": [
    "##### **(2) Agrupación de valores similares**"
   ]
  },
  {
   "cell_type": "code",
   "execution_count": 40,
   "metadata": {},
   "outputs": [
    {
     "name": "stdout",
     "output_type": "stream",
     "text": [
      "plan\n",
      "Diario               5723\n",
      "Fin de semana        2869\n",
      "Semipresencial        541\n",
      "A distancia           193\n",
      "Mixto/Intercalado       5\n",
      "Otro                    1\n",
      "Name: count, dtype: int64\n"
     ]
    }
   ],
   "source": [
    "def plan_mapping(plan):\n",
    "    plan = plan.lower()\n",
    "    if 'diario' in plan or 'regular' in plan:\n",
    "        return 'Diario'\n",
    "    elif 'fin de semana' in plan or 'sabatino' in plan or 'dominical' in plan:\n",
    "        return 'Fin de semana'\n",
    "    elif 'semipresencial' in plan:\n",
    "        return 'Semipresencial'\n",
    "    elif 'distancia' in plan:\n",
    "        return 'A distancia'\n",
    "    elif 'mixto' in plan or 'intercalado' in plan:\n",
    "        return 'Mixto/Intercalado'\n",
    "    else:\n",
    "        return 'Otro'\n",
    "\n",
    "# Apply the function to the plan column\n",
    "df['plan'] = df['plan'].apply(plan_mapping)\n",
    "print(df['plan'].value_counts())"
   ]
  }
 ],
 "metadata": {
  "kernelspec": {
   "display_name": "venv",
   "language": "python",
   "name": "python3"
  },
  "language_info": {
   "codemirror_mode": {
    "name": "ipython",
    "version": 3
   },
   "file_extension": ".py",
   "mimetype": "text/x-python",
   "name": "python",
   "nbconvert_exporter": "python",
   "pygments_lexer": "ipython3",
   "version": "3.12.0"
  }
 },
 "nbformat": 4,
 "nbformat_minor": 2
}
